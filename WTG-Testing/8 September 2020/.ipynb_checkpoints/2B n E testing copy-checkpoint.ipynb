{
 "cells": [
  {
   "cell_type": "code",
   "execution_count": 5,
   "metadata": {},
   "outputs": [
    {
     "data": {
      "text/html": [
       "\n",
       "        <script>\n",
       "            function code_toggle_14635412280913157088() {\n",
       "                $('div.cell.code_cell.rendered.selected').find('div.input').toggle();\n",
       "            }\n",
       "\n",
       "            \n",
       "        </script>\n",
       "\n",
       "        <a href=\"javascript:code_toggle_14635412280913157088()\">FUNCTIONAL COMPONENTS</a>\n",
       "    "
      ],
      "text/plain": [
       "<IPython.core.display.HTML object>"
      ]
     },
     "execution_count": 5,
     "metadata": {},
     "output_type": "execute_result"
    }
   ],
   "source": [
    "from IPython.display import HTML\n",
    "import random\n",
    "\n",
    "def hide(for_next=False):\n",
    "    this_cell = \"\"\"$('div.cell.code_cell.rendered.selected')\"\"\"\n",
    "    next_cell = this_cell + '.next()'\n",
    "\n",
    "    toggle_text = 'FUNCTIONAL COMPONENTS'  # text shown on toggle link\n",
    "    target_cell = this_cell  # target cell to control with toggle\n",
    "    js_hide_current = ''  # bit of JS to permanently hide code in current cell (only when toggling next cell)\n",
    "\n",
    "    if for_next:\n",
    "        target_cell = next_cell\n",
    "        toggle_text += ' next cell'\n",
    "        js_hide_current = this_cell + '.find(\"div.input\").hide();'\n",
    "\n",
    "    js_f_name = 'code_toggle_{}'.format(str(random.randint(1,2**64)))\n",
    "\n",
    "    html = \"\"\"\n",
    "        <script>\n",
    "            function {f_name}() {{\n",
    "                {cell_selector}.find('div.input').toggle();\n",
    "            }}\n",
    "\n",
    "            {js_hide_current}\n",
    "        </script>\n",
    "\n",
    "        <a href=\"javascript:{f_name}()\">{toggle_text}</a>\n",
    "    \"\"\".format(\n",
    "        f_name=js_f_name,\n",
    "        cell_selector=target_cell,\n",
    "        js_hide_current=js_hide_current, \n",
    "        toggle_text=toggle_text\n",
    "    )\n",
    "\n",
    "    return HTML(html)\n",
    "\n",
    "hide()"
   ]
  },
  {
   "cell_type": "markdown",
   "metadata": {},
   "source": [
    "# Bearing and Elevation Testing\n",
    "\n",
    "## INDEX\n",
    "\n",
    "1. Bearing <br/>\n",
    "    1.1 [Bearing No Compass](#bnc)<br/>\n",
    "    1.2 [Bearing Compass](#bc)<br/>\n",
    "    1.3 [Hi-Tech](#ht)<br/>\n",
    "2. Elevation <br/>\n",
    "    2.1 [Elevation Translation Matrix](#etm)<br/>\n",
    "\n",
    "__all tests are independent__"
   ]
  },
  {
   "cell_type": "code",
   "execution_count": 1,
   "metadata": {},
   "outputs": [],
   "source": [
    "import math\n",
    "import numpy as np\n",
    "from math import radians, cos, sin, asin, sqrt, atan\n",
    "import geopy\n",
    "from geopy import distance as GD\n",
    "from numpy import cross, eye, dot\n",
    "from scipy.linalg import expm, norm"
   ]
  },
  {
   "cell_type": "markdown",
   "metadata": {},
   "source": [
    "------------------------------------------------------------------------------------------------------------------------------"
   ]
  },
  {
   "cell_type": "markdown",
   "metadata": {},
   "source": [
    "# 1. Bearing Test"
   ]
  },
  {
   "cell_type": "markdown",
   "metadata": {},
   "source": [
    "## 1.1 BNC : Bearing No Compass<a name=\"bnc\">\n",
    "__Basically__ : \n",
    "- Take 2 points (Lidar, External) [p0,p1]. \n",
    "- Calculate the LONG LAT of the 2 points. [[lat0, lon0], [lat1, lon1]]\n",
    "- Calculate the bearing of the path from p0 -> p1. "
   ]
  },
  {
   "cell_type": "code",
   "execution_count": 27,
   "metadata": {},
   "outputs": [
    {
     "ename": "TypeError",
     "evalue": "sqrt() takes exactly one argument (0 given)",
     "output_type": "error",
     "traceback": [
      "\u001b[0;31m---------------------------------------------------------------------------\u001b[0m",
      "\u001b[0;31mTypeError\u001b[0m                                 Traceback (most recent call last)",
      "\u001b[0;32m<ipython-input-27-a9560bbaec59>\u001b[0m in \u001b[0;36m<module>\u001b[0;34m\u001b[0m\n\u001b[1;32m      1\u001b[0m \u001b[0;32mimport\u001b[0m \u001b[0mmath\u001b[0m\u001b[0;34m\u001b[0m\u001b[0;34m\u001b[0m\u001b[0m\n\u001b[0;32m----> 2\u001b[0;31m \u001b[0mmath\u001b[0m\u001b[0;34m.\u001b[0m\u001b[0msqrt\u001b[0m\u001b[0;34m(\u001b[0m\u001b[0;34m)\u001b[0m\u001b[0;34m\u001b[0m\u001b[0;34m\u001b[0m\u001b[0m\n\u001b[0m",
      "\u001b[0;31mTypeError\u001b[0m: sqrt() takes exactly one argument (0 given)"
     ]
    }
   ],
   "source": [
    "import math\n",
    "math.sqrt()"
   ]
  },
  {
   "cell_type": "code",
   "execution_count": 102,
   "metadata": {},
   "outputs": [],
   "source": [
    "# INPUTS \n",
    "\n",
    "# GPS Coordinates of the lidar \n",
    "lat0 = 11.18135963 \n",
    "lon0 = 77.29688278\n",
    "\n",
    "# GPS Coordinate of known point  # Point 1 \n",
    "lat1 = 11.18156127\n",
    "lon1 = 77.29678419  \n",
    " \n",
    "# Point 1 ->  Coordinates (x,y) INITIAL CALIBRATION POINT \n",
    "vA = [26.2456,0.9414,1.0514]\n",
    "\n",
    "# Point 2 -> Coordinates (x,y) TARGET POINT \n",
    "vB = [28.0322,3.7997,1.1425]\n",
    "\n",
    "x = vB[0]\n",
    "y = vB[1]"
   ]
  },
  {
   "cell_type": "code",
   "execution_count": 103,
   "metadata": {},
   "outputs": [
    {
     "data": {
      "text/html": [
       "\n",
       "        <script>\n",
       "            function code_toggle_451536234683089647() {\n",
       "                $('div.cell.code_cell.rendered.selected').find('div.input').toggle();\n",
       "            }\n",
       "\n",
       "            \n",
       "        </script>\n",
       "\n",
       "        <a href=\"javascript:code_toggle_451536234683089647()\">FUNCTIONAL COMPONENTS</a>\n",
       "    "
      ],
      "text/plain": [
       "<IPython.core.display.HTML object>"
      ]
     },
     "execution_count": 103,
     "metadata": {},
     "output_type": "execute_result"
    }
   ],
   "source": [
    "# FUNCTIONS\n",
    "\n",
    "\n",
    "def haversine(lon1, lat1, lon2, lat2):\n",
    "    \"\"\"\n",
    "    Calculate the great circle distance between two points \n",
    "    on the earth (specified in decimal degrees)\n",
    "    \"\"\"\n",
    "    # convert decimal degrees to radians \n",
    "    lon1, lat1, lon2, lat2 = map(radians, [lon1, lat1, lon2, lat2])\n",
    "\n",
    "    # haversine formula \n",
    "    dlon = lon2 - lon1 \n",
    "    dlat = lat2 - lat1 \n",
    "    a = sin(dlat/2)**2 + cos(lat1) * cos(lat2) * sin(dlon/2)**2\n",
    "    c = 2 * asin(sqrt(a)) \n",
    "    r = 6371 # Radius of earth in kilometers. Use 3956 for miles\n",
    "    \n",
    "    \n",
    "    bearing = math.atan2(sin(lon2-lon1)*cos(lat2), cos(lat1)*sin(lat2)-sin(lat1)*cos(lat2)*cos(lon2-lon1))\n",
    "    bearing = math.degrees(bearing)\n",
    "    bearing = (bearing + 360) % 360\n",
    "    \n",
    "    \n",
    "    return c * r , bearing\n",
    "\n",
    "\n",
    "def dot(vA, vB):\n",
    "    return vA[0]*vB[0]+vA[1]*vB[1]\n",
    "def ang(vA, vB):\n",
    "    # Get dot prod\n",
    "    dot_prod = dot(vA, vB)\n",
    "    # Get magnitudes\n",
    "    magA = dot(vA, vA)**0.5\n",
    "    magB = dot(vB, vB)**0.5\n",
    "    # Get cosine value\n",
    "    cos_ = dot_prod/magA/magB\n",
    "    # Get angle in radians and then convert to degrees\n",
    "    angle = math.acos(dot_prod/magB/magA)\n",
    "    # Basically doing angle <- angle mod 360\n",
    "    ang_deg = math.degrees(angle)%360\n",
    "\n",
    "    if ang_deg-180>=0:\n",
    "        # As in if statement\n",
    "        return 360 - ang_deg\n",
    "    else: \n",
    "\n",
    "        return ang_deg\n",
    "\n",
    "def get_distance(x,y):\n",
    "    return math.sqrt((x**2+y**2))/1000\n",
    "\n",
    "import geopy\n",
    "def get_coord_2(bearing,lat,lon,dist):\n",
    "    b = bearing\n",
    "    d = dist\n",
    "    lat1 = lat \n",
    "    lon1 = lon\n",
    "    origin = geopy.Point(lat1, lon1)\n",
    "    for model_name in models :\n",
    "        destination = GD.geodesic(kilometers=d,ellipsoid=model_name).destination(origin, b,)\n",
    "        lat2, lon2 = destination.latitude, destination.longitude\n",
    "        print(model_name,' \\t: ',lat2,lon2)\n",
    "        \n",
    "        \n",
    "ELLIPSOIDS = {'WGS-84':        (6378.137,    6356.7523142,  1 / 298.257223563),\n",
    "              'GRS-80':        (6378.137,    6356.7523141,  1 / 298.257222101),\n",
    "              'Airy (1830)':   (6377.563396, 6356.256909,   1 / 299.3249646),\n",
    "              'Intl 1924':     (6378.388,    6356.911946,   1 / 297.0),\n",
    "              'Clarke (1880)': (6378.249145, 6356.51486955, 1 / 293.465),\n",
    "              'GRS-67':        (6378.1600,   6356.774719,   1 / 298.25),\n",
    "              }\n",
    "\n",
    "models = list(ELLIPSOIDS.keys())\n",
    "\n",
    "def get_coord_1(bearing,lat,lon,dist,Rmodel='dji'):\n",
    "    brng = math.radians(bearing)\n",
    "    \n",
    "    d = dist \n",
    "    if Rmodel=='dji' :\n",
    "        R = 6378.137\n",
    "    elif Rmodel=='google':\n",
    "        R = 6371.0710\n",
    "    lat1 = math.radians(lat)\n",
    "    lon1 = math.radians(lon) \n",
    "    lat2 = math.asin( math.sin(lat1)*math.cos(d/R) + math.cos(lat1)*math.sin(d/R)*math.cos(brng))\n",
    "    lon2 = lon1 + math.atan2(math.sin(brng)*math.sin(d/R)*math.cos(lat1),math.cos(d/R)-math.sin(lat1)*math.sin(lat2))\n",
    "    lat2 = math.degrees(lat2)\n",
    "    lon2 = math.degrees(lon2)\n",
    "    \n",
    "    print (Rmodel,' \\t\\t', lat2,lon2)\n",
    "\n",
    "hide()"
   ]
  },
  {
   "cell_type": "code",
   "execution_count": 104,
   "metadata": {},
   "outputs": [],
   "source": [
    "distacePointRtk, bearing = haversine(lon0, lat0, lon1, lat1)"
   ]
  },
  {
   "cell_type": "code",
   "execution_count": 105,
   "metadata": {},
   "outputs": [],
   "source": [
    "offset = ang(vA,vB) # Offset of p1 from p2 "
   ]
  },
  {
   "cell_type": "code",
   "execution_count": 106,
   "metadata": {},
   "outputs": [],
   "source": [
    "bPlus = bearing + offset\n",
    "bNeg = bearing - offset"
   ]
  },
  {
   "cell_type": "code",
   "execution_count": 107,
   "metadata": {},
   "outputs": [
    {
     "name": "stdout",
     "output_type": "stream",
     "text": [
      "POSITIVE DISTANCE OPTION\n",
      "WGS-84  \t:  11.181600004396337 77.29679436447107\n",
      "GRS-80  \t:  11.181600004396348 77.29679436447107\n",
      "Airy (1830)  \t:  11.181600020569647 77.29679435647924\n",
      "Intl 1924  \t:  11.181600001399502 77.2967943679974\n",
      "Clarke (1880)  \t:  11.18160002510141 77.29679436620708\n",
      "GRS-67  \t:  11.18160000356651 77.29679436479016\n",
      "\n",
      "NEGATIVE DISTANCE OPTION\n",
      "WGS-84  \t:  11.181578169024853 77.29674826003756\n",
      "GRS-80  \t:  11.181578169024862 77.29674826003756\n",
      "Airy (1830)  \t:  11.181578183728991 77.29674824787838\n",
      "Intl 1924  \t:  11.18157816630025 77.29674826540271\n",
      "Clarke (1880)  \t:  11.1815781878491 77.29674826267882\n",
      "GRS-67  \t:  11.181578168270404 77.29674826052306\n"
     ]
    }
   ],
   "source": [
    "print('POSITIVE DISTANCE OPTION')\n",
    "get_coord_2(bearing=bPlus,lat=lat0,lon=lon0,dist=get_distance(x,y))\n",
    "\n",
    "print('\\nNEGATIVE DISTANCE OPTION')\n",
    "get_coord_2(bearing=bNeg,lat=lat0,lon=lon0,dist=get_distance(x,y))"
   ]
  },
  {
   "cell_type": "markdown",
   "metadata": {},
   "source": [
    "## 1.2 BC : Bearing Compass<a name=\"bc\">\n",
    "__Basically__:\n",
    "- Keep a compass on lidar. \n",
    "- Take note of the lidar heading __lidar_heading__\n",
    "    \n",
    "    "
   ]
  },
  {
   "cell_type": "code",
   "execution_count": 112,
   "metadata": {},
   "outputs": [],
   "source": [
    "# INPUTS \n",
    "\n",
    "lidar_heading = 335   # Heading of compass when placed on top of lidar \n",
    "\n",
    "x_drone = \n",
    "y_drone = \n",
    "\n",
    "# Coordinates of target point on scene \n",
    "x = 28.0322 - x_drone\n",
    "y = 3.7997 - y_drone \n",
    "\n",
    "# GPS Coordinates of the lidar \n",
    "lat0 = \n",
    "lon0 = \n"
   ]
  },
  {
   "cell_type": "code",
   "execution_count": 113,
   "metadata": {},
   "outputs": [
    {
     "data": {
      "text/html": [
       "\n",
       "        <script>\n",
       "            function code_toggle_15404241713258067982() {\n",
       "                $('div.cell.code_cell.rendered.selected').find('div.input').toggle();\n",
       "            }\n",
       "\n",
       "            \n",
       "        </script>\n",
       "\n",
       "        <a href=\"javascript:code_toggle_15404241713258067982()\">FUNCTIONAL COMPONENTS</a>\n",
       "    "
      ],
      "text/plain": [
       "<IPython.core.display.HTML object>"
      ]
     },
     "execution_count": 113,
     "metadata": {},
     "output_type": "execute_result"
    }
   ],
   "source": [
    "# FUNCTIONS \n",
    "\n",
    "def get_bearing(x,y):\n",
    "    if x==0:\n",
    "        target_bearing = 90\n",
    "    else: \n",
    "        target_bearing = math.degrees(math.atan(y/x))\n",
    "    \n",
    "    return target_bearing\n",
    "\n",
    "def get_distance(x,y):\n",
    "    return math.sqrt((x**2+y**2))/1000\n",
    "\n",
    "\n",
    "def get_coord_2(bearing,lat,lon,dist):\n",
    "    b = bearing\n",
    "    d = dist\n",
    "    lat1 = lat \n",
    "    lon1 = lon\n",
    "    origin = geopy.Point(lat1, lon1)\n",
    "    for model_name in models :\n",
    "        destination = geopy.distance.geodesic(kilometers=d,ellipsoid=model_name).destination(origin, b,)\n",
    "        lat2, lon2 = destination.latitude, destination.longitude\n",
    "        print(model_name,' \\t: ',lat2,lon2)\n",
    "        \n",
    "        \n",
    "ELLIPSOIDS = {'WGS-84':        (6378.137,    6356.7523142,  1 / 298.257223563),\n",
    "              'GRS-80':        (6378.137,    6356.7523141,  1 / 298.257222101),\n",
    "              'Airy (1830)':   (6377.563396, 6356.256909,   1 / 299.3249646),\n",
    "              'Intl 1924':     (6378.388,    6356.911946,   1 / 297.0),\n",
    "              'Clarke (1880)': (6378.249145, 6356.51486955, 1 / 293.465),\n",
    "              'GRS-67':        (6378.1600,   6356.774719,   1 / 298.25),\n",
    "              }\n",
    "\n",
    "models = list(ELLIPSOIDS.keys())\n",
    "\n",
    "def get_coord_1(bearing,lat,lon,dist,Rmodel='DJI'):\n",
    "    brng = math.radians(bearing)\n",
    "    \n",
    "    d = dist \n",
    "    if Rmodel=='DJI' :\n",
    "        R = 6378.137\n",
    "    elif Rmodel=='GOOGLE':\n",
    "        R = 6371.0710\n",
    "    lat1 = math.radians(lat)\n",
    "    lon1 = math.radians(lon) \n",
    "    lat2 = math.asin( math.sin(lat1)*math.cos(d/R) + math.cos(lat1)*math.sin(d/R)*math.cos(brng))\n",
    "    lon2 = lon1 + math.atan2(math.sin(brng)*math.sin(d/R)*math.cos(lat1),math.cos(d/R)-math.sin(lat1)*math.sin(lat2))\n",
    "    lat2 = math.degrees(lat2)\n",
    "    lon2 = math.degrees(lon2)\n",
    "    \n",
    "    print (Rmodel,' \\t:', lat2,lon2)\n",
    "\n",
    "hide()"
   ]
  },
  {
   "cell_type": "code",
   "execution_count": 114,
   "metadata": {},
   "outputs": [
    {
     "name": "stdout",
     "output_type": "stream",
     "text": [
      "GOOGLE  \t: 11.181573665931316 77.29674260891942\n",
      "DJI  \t: 11.181573428812284 77.29674276420764\n",
      "\n",
      "\n",
      "WGS-84  \t:  11.18157478843899 77.29674278183181\n",
      "GRS-80  \t:  11.181574788438997 77.29674278183181\n",
      "Airy (1830)  \t:  11.181574802915671 77.29674276917747\n",
      "Intl 1924  \t:  11.181574785756533 77.29674278741545\n",
      "Clarke (1880)  \t:  11.181574806972042 77.29674278458064\n",
      "GRS-67  \t:  11.181574787696212 77.29674278233708\n"
     ]
    }
   ],
   "source": [
    "get_coord_1(bearing=lidar_heading-get_bearing(x,y),lat=lat0,lon=lon0,dist=get_distance(x,y),Rmodel='GOOGLE')\n",
    "get_coord_1(bearing=lidar_heading-get_bearing(x,y),lat=lat0,lon=lon0,dist=get_distance(x,y),Rmodel='DJI')\n",
    "print('\\n')\n",
    "get_coord_2(bearing=lidar_heading-get_bearing(x,y),lat=lat0,lon=lon0,dist=get_distance(x,y))"
   ]
  },
  {
   "cell_type": "markdown",
   "metadata": {},
   "source": [
    "## 1.2 Hi-Tech<a name=\"ht\">\n",
    "__Basically__:\n",
    "- Calculate long lats of the lidar and the rtk  : __lon0, lat1__ // __lon1, lat1__\n",
    "    \n",
    "    "
   ]
  },
  {
   "cell_type": "code",
   "execution_count": 76,
   "metadata": {},
   "outputs": [],
   "source": [
    "# INPUTS \n",
    "# GPS Coordinates of the lidar \n",
    "lat0 = 11.181561476101281 \n",
    "lon0 = 77.29672391941513\n",
    "\n",
    "# GPS Coordinates of the RTK \n",
    "lat1 = 11.18156402\n",
    "lon1 = 77.29675451"
   ]
  },
  {
   "cell_type": "code",
   "execution_count": 77,
   "metadata": {},
   "outputs": [
    {
     "data": {
      "text/html": [
       "\n",
       "        <script>\n",
       "            function code_toggle_17106483480248799064() {\n",
       "                $('div.cell.code_cell.rendered.selected').find('div.input').toggle();\n",
       "            }\n",
       "\n",
       "            \n",
       "        </script>\n",
       "\n",
       "        <a href=\"javascript:code_toggle_17106483480248799064()\">FUNCTIONAL COMPONENTS</a>\n",
       "    "
      ],
      "text/plain": [
       "<IPython.core.display.HTML object>"
      ]
     },
     "execution_count": 77,
     "metadata": {},
     "output_type": "execute_result"
    }
   ],
   "source": [
    "# FUNCTIONS\n",
    "\n",
    "\n",
    "def haversine(lon1, lat1, lon2, lat2):\n",
    "    \"\"\"\n",
    "    Calculate the great circle distance between two points \n",
    "    on the earth (specified in decimal degrees)\n",
    "    \"\"\"\n",
    "    # convert decimal degrees to radians \n",
    "    lon1, lat1, lon2, lat2 = map(radians, [lon1, lat1, lon2, lat2])\n",
    "\n",
    "    # haversine formula \n",
    "    dlon = lon2 - lon1 \n",
    "    dlat = lat2 - lat1 \n",
    "    a = sin(dlat/2)**2 + cos(lat1) * cos(lat2) * sin(dlon/2)**2\n",
    "    c = 2 * asin(sqrt(a)) \n",
    "    r = 6371 # Radius of earth in kilometers. Use 3956 for miles\n",
    "    \n",
    "    \n",
    "    bearing = math.atan2(sin(lon2-lon1)*cos(lat2), cos(lat1)*sin(lat2)-sin(lat1)*cos(lat2)*cos(lon2-lon1))\n",
    "    bearing = math.degrees(bearing)\n",
    "    bearing = (bearing + 360) % 360\n",
    "    \n",
    "    \n",
    "    return c * r , bearing\n",
    "\n",
    "hide()"
   ]
  },
  {
   "cell_type": "code",
   "execution_count": 78,
   "metadata": {},
   "outputs": [],
   "source": [
    "distance_LIDARrtk, bearing_LIDARrtk = haversine(lon0, lat0, lon1, lat1)"
   ]
  },
  {
   "cell_type": "code",
   "execution_count": 79,
   "metadata": {},
   "outputs": [
    {
     "data": {
      "text/plain": [
       "(0.0033489166283879024, 85.15469503794617)"
      ]
     },
     "execution_count": 79,
     "metadata": {},
     "output_type": "execute_result"
    }
   ],
   "source": [
    "distance_LIDARrtk,bearing_LIDARrtk"
   ]
  },
  {
   "cell_type": "markdown",
   "metadata": {},
   "source": [
    "# 2. Elevation Test"
   ]
  },
  {
   "cell_type": "markdown",
   "metadata": {},
   "source": [
    "## 2.1 Elevation Translation Matrix<a name=\"etm\">\n",
    "\n",
    "__Basically__:<br>\n",
    "    - Keep an Elevation Meter on the Lidar.<br>\n",
    "    - Lidar and Drone should be on the same Altitude. (except the tripod offset)<br>\n",
    "    - Tilt the lidar and find the point and enter the Y Coordinate. <br>\n",
    "    - Input the elevation too.<br>\n",
    "    \n",
    "    "
   ]
  },
  {
   "cell_type": "code",
   "execution_count": 86,
   "metadata": {},
   "outputs": [],
   "source": [
    "# INPUT \n",
    "theta = math.radians(-19.2)\n",
    "target = np.array([[28.06],[3.496],[1.201],[1]])"
   ]
  },
  {
   "cell_type": "code",
   "execution_count": 87,
   "metadata": {},
   "outputs": [
    {
     "data": {
      "text/html": [
       "\n",
       "        <script>\n",
       "            function code_toggle_18173787380384394651() {\n",
       "                $('div.cell.code_cell.rendered.selected').find('div.input').toggle();\n",
       "            }\n",
       "\n",
       "            \n",
       "        </script>\n",
       "\n",
       "        <a href=\"javascript:code_toggle_18173787380384394651()\">FUNCTIONAL COMPONENTS</a>\n",
       "    "
      ],
      "text/plain": [
       "<IPython.core.display.HTML object>"
      ]
     },
     "execution_count": 87,
     "metadata": {},
     "output_type": "execute_result"
    }
   ],
   "source": [
    "# Translation Matrix in the Y Direction \n",
    "tY = np.array([[math.cos(theta),0,math.sin(theta),0],\n",
    "          [0,1,0,0],\n",
    "          [-1*math.sin(theta),0,math.cos(theta),0],\n",
    "          [0,0,0,1]\n",
    "         ])\n",
    "\n",
    "res = tY @ target\n",
    "hide()"
   ]
  },
  {
   "cell_type": "code",
   "execution_count": 88,
   "metadata": {},
   "outputs": [],
   "source": [
    "# OUTPUT \n",
    "height = res[2]"
   ]
  },
  {
   "cell_type": "code",
   "execution_count": 90,
   "metadata": {},
   "outputs": [
    {
     "data": {
      "text/plain": [
       "array([10.36219413])"
      ]
     },
     "execution_count": 90,
     "metadata": {},
     "output_type": "execute_result"
    }
   ],
   "source": [
    "height"
   ]
  },
  {
   "cell_type": "code",
   "execution_count": null,
   "metadata": {},
   "outputs": [],
   "source": []
  }
 ],
 "metadata": {
  "kernelspec": {
   "display_name": "Python 3",
   "language": "python",
   "name": "python3"
  },
  "language_info": {
   "codemirror_mode": {
    "name": "ipython",
    "version": 3
   },
   "file_extension": ".py",
   "mimetype": "text/x-python",
   "name": "python",
   "nbconvert_exporter": "python",
   "pygments_lexer": "ipython3",
   "version": "3.7.9"
  }
 },
 "nbformat": 4,
 "nbformat_minor": 4
}
