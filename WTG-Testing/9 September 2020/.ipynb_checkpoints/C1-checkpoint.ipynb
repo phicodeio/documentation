{
 "cells": [
  {
   "cell_type": "markdown",
   "metadata": {},
   "source": [
    "# CONFIDENCE 1 \n",
    "\n",
    "Basic Test, Just to see RTK, Lidar, Code Performance on field \n"
   ]
  },
  {
   "cell_type": "code",
   "execution_count": 1,
   "metadata": {},
   "outputs": [
    {
     "data": {
      "text/html": [
       "\n",
       "        <script>\n",
       "            function code_toggle_4250687284932358732() {\n",
       "                $('div.cell.code_cell.rendered.selected').find('div.input').toggle();\n",
       "            }\n",
       "\n",
       "            \n",
       "        </script>\n",
       "\n",
       "        <a href=\"javascript:code_toggle_4250687284932358732()\">FUNCTIONAL COMPONENT HIDDEN</a>\n",
       "    "
      ],
      "text/plain": [
       "<IPython.core.display.HTML object>"
      ]
     },
     "execution_count": 1,
     "metadata": {},
     "output_type": "execute_result"
    }
   ],
   "source": [
    "from IPython.display import HTML\n",
    "import random\n",
    "\n",
    "def hide(for_next=False):\n",
    "    this_cell = \"\"\"$('div.cell.code_cell.rendered.selected')\"\"\"\n",
    "    next_cell = this_cell + '.next()'\n",
    "\n",
    "    toggle_text = 'FUNCTIONAL COMPONENT HIDDEN'  # text shown on toggle link\n",
    "    target_cell = this_cell  # target cell to control with toggle\n",
    "    js_hide_current = ''  # bit of JS to permanently hide code in current cell (only when toggling next cell)\n",
    "\n",
    "    if for_next:\n",
    "        target_cell = next_cell\n",
    "        toggle_text += ' next cell'\n",
    "        js_hide_current = this_cell + '.find(\"div.input\").hide();'\n",
    "\n",
    "    js_f_name = 'code_toggle_{}'.format(str(random.randint(1,2**64)))\n",
    "\n",
    "    html = \"\"\"\n",
    "        <script>\n",
    "            function {f_name}() {{\n",
    "                {cell_selector}.find('div.input').toggle();\n",
    "            }}\n",
    "\n",
    "            {js_hide_current}\n",
    "        </script>\n",
    "\n",
    "        <a href=\"javascript:{f_name}()\">{toggle_text}</a>\n",
    "    \"\"\".format(\n",
    "        f_name=js_f_name,\n",
    "        cell_selector=target_cell,\n",
    "        js_hide_current=js_hide_current, \n",
    "        toggle_text=toggle_text\n",
    "    )\n",
    "\n",
    "    return HTML(html)\n",
    "\n",
    "hide()"
   ]
  },
  {
   "cell_type": "code",
   "execution_count": 2,
   "metadata": {},
   "outputs": [],
   "source": [
    "import math\n",
    "import numpy as np\n",
    "from math import radians, cos, sin, asin, sqrt, atan\n",
    "import geopy\n",
    "from geopy import distance as GD\n",
    "from numpy import cross, eye, dot\n",
    "from scipy.linalg import expm, norm\n"
   ]
  },
  {
   "cell_type": "markdown",
   "metadata": {},
   "source": [
    "## C1.1 \n",
    "Flying 20 metre in front of the windmill blade __bottom facing__"
   ]
  },
  {
   "cell_type": "code",
   "execution_count": 20,
   "metadata": {},
   "outputs": [],
   "source": [
    "# INPUTS \n",
    "\n",
    "# GPS Coordinates of the lidar \n",
    "lat0 = 11.12330329\n",
    "lon0 = 77.32846783\n",
    "\n",
    "# GPS Coordinate of known point  # Point 1 - RTK \n",
    "lat1 = 11.123292860\n",
    "lon1 = 77.328536142 \n",
    " \n",
    "# Point 1 ->  Coordinates (x,y) INITIAL CALIBRATION POINT - RTK \n",
    "vA = [6.906466216,2.549277027,0.2232162162]\n",
    "\n",
    "# Point 2 -> Coordinates (x,y) TARGET POINT \n",
    "vB = [19.61833333,-4.752083333,2.565583333]\n",
    "\n",
    "# Elevation of lidar from ground \n",
    "theta = math.radians(-19.2)\n",
    "\n",
    "# Lidar Drone Offset\n",
    "lidar_drone_offset = 1\n",
    "\n",
    "x = vB[0]\n",
    "y = vB[1]\n",
    "\n"
   ]
  },
  {
   "cell_type": "code",
   "execution_count": 21,
   "metadata": {},
   "outputs": [
    {
     "data": {
      "text/html": [
       "\n",
       "        <script>\n",
       "            function code_toggle_2019017953477417065() {\n",
       "                $('div.cell.code_cell.rendered.selected').find('div.input').toggle();\n",
       "            }\n",
       "\n",
       "            \n",
       "        </script>\n",
       "\n",
       "        <a href=\"javascript:code_toggle_2019017953477417065()\">FUNCTIONAL COMPONENT HIDDEN</a>\n",
       "    "
      ],
      "text/plain": [
       "<IPython.core.display.HTML object>"
      ]
     },
     "execution_count": 21,
     "metadata": {},
     "output_type": "execute_result"
    }
   ],
   "source": [
    "# FUNCTIONS\n",
    "\n",
    "\n",
    "def haversine(lon1, lat1, lon2, lat2):\n",
    "    \"\"\"\n",
    "    Calculate the great circle distance between two points \n",
    "    on the earth (specified in decimal degrees)\n",
    "    \"\"\"\n",
    "    # convert decimal degrees to radians \n",
    "    lon1, lat1, lon2, lat2 = map(radians, [lon1, lat1, lon2, lat2])\n",
    "\n",
    "    # haversine formula \n",
    "    dlon = lon2 - lon1 \n",
    "    dlat = lat2 - lat1 \n",
    "    a = sin(dlat/2)**2 + cos(lat1) * cos(lat2) * sin(dlon/2)**2\n",
    "    c = 2 * asin(sqrt(a)) \n",
    "    r = 6371 # Radius of earth in kilometers. Use 3956 for miles\n",
    "    \n",
    "    \n",
    "    bearing = math.atan2(sin(lon2-lon1)*cos(lat2), cos(lat1)*sin(lat2)-sin(lat1)*cos(lat2)*cos(lon2-lon1))\n",
    "    bearing = math.degrees(bearing)\n",
    "    bearing = (bearing + 360) % 360\n",
    "\n",
    "    \n",
    "    \n",
    "    return c * r , bearing\n",
    "\n",
    "\n",
    "def dot(vA, vB):\n",
    "    return vA[0]*vB[0]+vA[1]*vB[1]\n",
    "def ang(vA, vB):\n",
    "    # Get dot prod\n",
    "    dot_prod = dot(vA, vB)\n",
    "    # Get magnitudes\n",
    "    magA = dot(vA, vA)**0.5\n",
    "    magB = dot(vB, vB)**0.5\n",
    "    # Get cosine value\n",
    "    cos_ = dot_prod/magA/magB\n",
    "    # Get angle in radians and then convert to degrees\n",
    "    angle = math.acos(dot_prod/magB/magA)\n",
    "    # Basically doing angle <- angle mod 360\n",
    "    ang_deg = math.degrees(angle)%360\n",
    "\n",
    "    if ang_deg-180>=0:\n",
    "        # As in if statement\n",
    "        return 360 - ang_deg\n",
    "    else: \n",
    "\n",
    "        return ang_deg\n",
    "\n",
    "def get_distance(x,y):\n",
    "    return math.sqrt((x**2+y**2))/1000\n",
    "\n",
    "import geopy\n",
    "def get_coord_2(bearing,lat,lon,dist):\n",
    "    b = bearing\n",
    "    d = dist\n",
    "    lat1 = lat \n",
    "    lon1 = lon\n",
    "    origin = geopy.Point(lat1, lon1)\n",
    "    for model_name in models :\n",
    "        destination = GD.geodesic(kilometers=d,ellipsoid=model_name).destination(origin, b,)\n",
    "        lat2, lon2 = destination.latitude, destination.longitude\n",
    "        print(model_name,' \\t: ',lat2,lon2)\n",
    "        \n",
    "        \n",
    "ELLIPSOIDS = {'WGS-84':        (6378.137,    6356.7523142,  1 / 298.257223563),\n",
    "              'GRS-80':        (6378.137,    6356.7523141,  1 / 298.257222101),\n",
    "              'Airy (1830)':   (6377.563396, 6356.256909,   1 / 299.3249646),\n",
    "              'Intl 1924':     (6378.388,    6356.911946,   1 / 297.0),\n",
    "              'Clarke (1880)': (6378.249145, 6356.51486955, 1 / 293.465),\n",
    "              'GRS-67':        (6378.1600,   6356.774719,   1 / 298.25),\n",
    "              }\n",
    "\n",
    "models = list(ELLIPSOIDS.keys())\n",
    "\n",
    "def get_coord_1(bearing,lat,lon,dist,Rmodel='dji'):\n",
    "    brng = math.radians(bearing)\n",
    "    \n",
    "    d = dist \n",
    "    if Rmodel=='dji' :\n",
    "        R = 6378.137\n",
    "    elif Rmodel=='google':\n",
    "        R = 6371.0710\n",
    "    lat1 = math.radians(lat)\n",
    "    lon1 = math.radians(lon) \n",
    "    lat2 = math.asin( math.sin(lat1)*math.cos(d/R) + math.cos(lat1)*math.sin(d/R)*math.cos(brng))\n",
    "    lon2 = lon1 + math.atan2(math.sin(brng)*math.sin(d/R)*math.cos(lat1),math.cos(d/R)-math.sin(lat1)*math.sin(lat2))\n",
    "    lat2 = math.degrees(lat2)\n",
    "    lon2 = math.degrees(lon2)\n",
    "    \n",
    "    print (Rmodel,' \\t\\t', lat2,lon2)\n",
    "\n",
    "hide()"
   ]
  },
  {
   "cell_type": "markdown",
   "metadata": {},
   "source": [
    "### LONGLAT CALCULATION "
   ]
  },
  {
   "cell_type": "code",
   "execution_count": 22,
   "metadata": {},
   "outputs": [],
   "source": [
    "distacePointRtk, bearing = haversine(lon0, lat0, lon1, lat1)\n"
   ]
  },
  {
   "cell_type": "code",
   "execution_count": 23,
   "metadata": {},
   "outputs": [],
   "source": [
    "offset = ang(vA,vB) # Offset of p1 from p2 "
   ]
  },
  {
   "cell_type": "code",
   "execution_count": 24,
   "metadata": {},
   "outputs": [],
   "source": [
    "# Options \n",
    "bPlus = bearing + offset\n",
    "bNeg = bearing - offset"
   ]
  },
  {
   "cell_type": "code",
   "execution_count": 25,
   "metadata": {},
   "outputs": [
    {
     "name": "stdout",
     "output_type": "stream",
     "text": [
      "POSITIVE DISTANCE OPTION\n",
      "WGS-84  \t:  11.123179487654618 77.32860358185752\n",
      "GRS-80  \t:  11.123179487654614 77.32860358185752\n",
      "Airy (1830)  \t:  11.12317947932643 77.32860359412742\n",
      "Intl 1924  \t:  11.123179489196076 77.32860357644398\n",
      "Clarke (1880)  \t:  11.123179476982866 77.32860357919492\n",
      "GRS-67  \t:  11.123179488082002 77.32860358136759\n",
      "\n",
      "NEGATIVE DISTANCE OPTION\n",
      "WGS-84  \t:  11.123380502478172 77.32863525417723\n",
      "GRS-80  \t:  11.123380502478176 77.32863525417723\n",
      "Airy (1830)  \t:  11.123380507672259 77.32863526930981\n",
      "Intl 1924  \t:  11.1233805015168 77.32863524750064\n",
      "Clarke (1880)  \t:  11.123380509133876 77.32863525089341\n",
      "GRS-67  \t:  11.123380502211623 77.32863525357298\n"
     ]
    }
   ],
   "source": [
    "print('POSITIVE DISTANCE OPTION')\n",
    "get_coord_2(bearing=bPlus,lat=lat0,lon=lon0,dist=get_distance(x,y))\n",
    "\n",
    "print('\\nNEGATIVE DISTANCE OPTION')\n",
    "get_coord_2(bearing=bNeg,lat=lat0,lon=lon0,dist=get_distance(x,y))"
   ]
  },
  {
   "cell_type": "markdown",
   "metadata": {},
   "source": [
    "### ALTITUDE CALCULATION"
   ]
  },
  {
   "cell_type": "code",
   "execution_count": 26,
   "metadata": {},
   "outputs": [],
   "source": [
    "# INPUT \n",
    "target = np.array([[vB[0]],[vB[1]],[vB[2]],[1]])"
   ]
  },
  {
   "cell_type": "code",
   "execution_count": 27,
   "metadata": {},
   "outputs": [
    {
     "data": {
      "text/html": [
       "\n",
       "        <script>\n",
       "            function code_toggle_6871588379931856095() {\n",
       "                $('div.cell.code_cell.rendered.selected').find('div.input').toggle();\n",
       "            }\n",
       "\n",
       "            \n",
       "        </script>\n",
       "\n",
       "        <a href=\"javascript:code_toggle_6871588379931856095()\">FUNCTIONAL COMPONENT HIDDEN</a>\n",
       "    "
      ],
      "text/plain": [
       "<IPython.core.display.HTML object>"
      ]
     },
     "execution_count": 27,
     "metadata": {},
     "output_type": "execute_result"
    }
   ],
   "source": [
    "# Translation Matrix in the Y Direction \n",
    "tY = np.array([[math.cos(theta),0,math.sin(theta),0],\n",
    "          [0,1,0,0],\n",
    "          [-1*math.sin(theta),0,math.cos(theta),0],\n",
    "          [0,0,0,1]\n",
    "         ])\n",
    "\n",
    "res = tY @ target\n",
    "hide()"
   ]
  },
  {
   "cell_type": "code",
   "execution_count": 28,
   "metadata": {},
   "outputs": [],
   "source": [
    "# OUTPUT \n",
    "height = res[2]"
   ]
  },
  {
   "cell_type": "code",
   "execution_count": 29,
   "metadata": {},
   "outputs": [],
   "source": [
    "height = height - lidar_drone_offset"
   ]
  }
 ],
 "metadata": {
  "kernelspec": {
   "display_name": "Python 3",
   "language": "python",
   "name": "python3"
  },
  "language_info": {
   "codemirror_mode": {
    "name": "ipython",
    "version": 3
   },
   "file_extension": ".py",
   "mimetype": "text/x-python",
   "name": "python",
   "nbconvert_exporter": "python",
   "pygments_lexer": "ipython3",
   "version": "3.7.9"
  }
 },
 "nbformat": 4,
 "nbformat_minor": 4
}
