{
 "cells": [
  {
   "cell_type": "code",
   "execution_count": 116,
   "metadata": {},
   "outputs": [],
   "source": [
    "import math\n",
    "import numpy as np\n",
    "from math import radians, cos, sin, asin, sqrt, atan\n",
    "from yattag import Doc, indent\n",
    "from numpy import cross, eye, dot\n",
    "\n",
    "\n",
    "\n",
    "def haversine(lon1, lat1, lon2, lat2):\n",
    "    \"\"\"\n",
    "    Calculate the great circle distance between two points \n",
    "    on the earth (specified in decimal degrees)\n",
    "    \"\"\"\n",
    "    # convert decimal degrees to radians \n",
    "    lon1, lat1, lon2, lat2 = map(radians, [lon1, lat1, lon2, lat2])\n",
    "\n",
    "    # haversine formula \n",
    "    dlon = lon2 - lon1 \n",
    "    dlat = lat2 - lat1 \n",
    "    a = sin(dlat/2)**2 + cos(lat1) * cos(lat2) * sin(dlon/2)**2\n",
    "    c = 2 * asin(sqrt(a)) \n",
    "    r = 6371 # Radius of earth in kilometers. Use 3956 for miles\n",
    "    \n",
    "    \n",
    "    bearing = math.atan2(sin(lon2-lon1)*cos(lat2), cos(lat1)*sin(lat2)-sin(lat1)*cos(lat2)*cos(lon2-lon1))\n",
    "    bearing = math.degrees(bearing)\n",
    "    bearing = (bearing + 360) % 360\n",
    "    return c * r , bearing"
   ]
  },
  {
   "cell_type": "code",
   "execution_count": 117,
   "metadata": {},
   "outputs": [],
   "source": [
    "t1 = [[11.202342416105855,77.35014664877991,0.24136335862807410],[11.20234240119181,77.35014649273029,1.4172300252947410],[11.202342386277765,77.35014633668065,2.5930966919614080],[11.202330003587194,77.35008307659515,0.139037786182009930],[11.202329988673116,77.35008292054553,1.31490445284867690],[11.202329973759035,77.3500827644959,2.49077111951534350],[11.202267635904631,77.35009573018861,0.149236641371927630],[11.202267620990558,77.35009557413902,1.32510330803859460],[11.202267606076484,77.35009541808942,2.50096997470526140],[11.202280048420617,77.35015930236021,0.25156221381799180],[11.202280033506575,77.3501591463106,1.42742888048465870],[11.202280018592536,77.35015899026101,2.60329554715132530],[11.202305026006321,77.35012118948097,0.195300000000000860],[11.20230501109226,77.35012103343136,1.37116666666666780],[11.202304996178201,77.35012087738174,2.54703333333333460]]"
   ]
  },
  {
   "cell_type": "code",
   "execution_count": 118,
   "metadata": {},
   "outputs": [],
   "source": [
    "\n",
    "n = 5 # 4 + 1 "
   ]
  },
  {
   "cell_type": "code",
   "execution_count": 119,
   "metadata": {},
   "outputs": [],
   "source": [
    "elementInPath = len(t1)/n"
   ]
  },
  {
   "cell_type": "code",
   "execution_count": 120,
   "metadata": {},
   "outputs": [
    {
     "data": {
      "text/plain": [
       "5"
      ]
     },
     "execution_count": 120,
     "metadata": {},
     "output_type": "execute_result"
    }
   ],
   "source": [
    "p = list()\n",
    "temp = list()\n",
    "flag = 0 \n",
    "for i in range(len(t1)):\n",
    "    if i%elementInPath== 0 and i!=0 :\n",
    "        flag = flag + 1 \n",
    "        p.append(temp)\n",
    "        temp = list() \n",
    "        \n",
    "    \n",
    "    temp.append(t1[i])\n",
    "    \n",
    "    if i== len(t1)-1:\n",
    "        p.append(temp)\n",
    "    \n",
    "    \n",
    "len(p)"
   ]
  },
  {
   "cell_type": "code",
   "execution_count": 121,
   "metadata": {},
   "outputs": [],
   "source": [
    "target = p[:len(p)-1]\n",
    "ref = p[len(p)-1:][0]\n"
   ]
  },
  {
   "cell_type": "code",
   "execution_count": null,
   "metadata": {},
   "outputs": [],
   "source": []
  },
  {
   "cell_type": "code",
   "execution_count": 122,
   "metadata": {},
   "outputs": [
    {
     "data": {
      "text/plain": [
       "[[[11.202342416105855, 77.35014664877991, 0.2413633586280741],\n",
       "  [11.20234240119181, 77.35014649273029, 1.417230025294741],\n",
       "  [11.202342386277765, 77.35014633668065, 2.593096691961408]],\n",
       " [[11.202330003587194, 77.35008307659515, 0.13903778618200993],\n",
       "  [11.202329988673116, 77.35008292054553, 1.3149044528486769],\n",
       "  [11.202329973759035, 77.3500827644959, 2.4907711195153435]],\n",
       " [[11.202267635904631, 77.35009573018861, 0.14923664137192763],\n",
       "  [11.202267620990558, 77.35009557413902, 1.3251033080385946],\n",
       "  [11.202267606076484, 77.35009541808942, 2.5009699747052614]],\n",
       " [[11.202280048420617, 77.35015930236021, 0.2515622138179918],\n",
       "  [11.202280033506575, 77.3501591463106, 1.4274288804846587],\n",
       "  [11.202280018592536, 77.35015899026101, 2.6032955471513253]]]"
      ]
     },
     "execution_count": 122,
     "metadata": {},
     "output_type": "execute_result"
    }
   ],
   "source": [
    "target"
   ]
  },
  {
   "cell_type": "code",
   "execution_count": 123,
   "metadata": {},
   "outputs": [],
   "source": [
    "\n",
    "def get_KML(target,ref,name):\n",
    "    \n",
    "    total_coord = []\n",
    "    doc, tag, text = Doc().tagtext()\n",
    "    \n",
    "    with tag(\"kml\",('xmlns',\"http://www.opengis.net/kml/2.2\")):\n",
    "        with tag(\"Document\",('xmlns',\"\")):\n",
    "            with tag(\"name\"):\n",
    "                text('C2')\n",
    "\n",
    "            with tag('open'):\n",
    "                text(\"1\")\n",
    "\n",
    "            with tag(\"ExtendedData\",('xmlns:mis','www.dji.com')):\n",
    "                with tag('mis:type'):\n",
    "                    text('Waypoint')\n",
    "                with tag('mis:stationType'):     # CHECK THIS SETTING AND WHAT IT IS \n",
    "                    text('0')\n",
    "\n",
    "            with tag('Style',('id','waypointStyle')):\n",
    "                with tag('IconStyle'):\n",
    "                    with tag('Icon'):\n",
    "                        with tag('href'):\n",
    "                            text('https://cdnen.dji-flighthub.com/static/app/images/point.png')\n",
    "            with tag('Folder'):\n",
    "                \n",
    "                with tag('name'):\n",
    "                    text('Waypoints')\n",
    "                with tag('description'):\n",
    "                    text('Waypoints in the Mission.')\n",
    "                \n",
    "                waypointcounter = 1\n",
    "                trig = 1\n",
    "                for pathar in target: \n",
    " \n",
    "                    if trig == 1 :\n",
    "                        trig= trig*-1\n",
    "                        ref_new = ref\n",
    "                        pathar = pathar[::-1]\n",
    "                        ref_new = ref[::-1]\n",
    "                    elif trig == -1:\n",
    "                        trig= trig*-1\n",
    "                        ref_new = ref \n",
    "\n",
    "\n",
    "                    for i in range(len(pathar)):\n",
    "                        d,b = haversine(  pathar[i][1],pathar[i][0],ref_new[i][1],ref_new[i][0]  )\n",
    "                        la = pathar[i][0]\n",
    "                        lo = pathar[i][1]\n",
    "                        a = pathar[i][2] + 2.5  # ADDING EXTRA ALTITUDE \n",
    "#                         print(a)\n",
    "                        total_coord.append([lo,la,a])\n",
    "                        \n",
    "                        with tag('Placemark'):\n",
    "                            with tag('name'):\n",
    "                                text(f'Waypoint{waypointcounter}')\n",
    "                                waypointcounter = waypointcounter + 1 \n",
    "                            with tag('visibility'):\n",
    "                                text(f'1')\n",
    "                            with tag('description'):\n",
    "                                text(f'Waypoint')\n",
    "                            with tag('styleUrl'):\n",
    "                                text(f'#waypointStyle')\n",
    "\n",
    "                            with tag('ExtendedData',('xmlns:mis', \"www.dji.com\")):\n",
    "                                with tag('mis:useWaylineAltitude'):\n",
    "                                    text('false')\n",
    "\n",
    "                                with tag('mis:heading'):\n",
    "                                    if b>180:\n",
    "                                        yaw = -(360-b)\n",
    "                                    else: \n",
    "                                        yaw = b \n",
    "                                    \n",
    "                                    text(f'{int(yaw)}')\n",
    "#                                     print(b)\n",
    "\n",
    "                                with tag('mis:turnMode'):\n",
    "                                    text('Auto')\n",
    "\n",
    "                                with tag('mis:gimbalPitch'):\n",
    "                                    text('0.0')\n",
    "\n",
    "                                with tag('mis:useWaylineSpeed'):\n",
    "                                    text('false')\n",
    "\n",
    "                                with tag('mis:speed'):\n",
    "                                    text('1.0')\n",
    "\n",
    "                                with tag('mis:useWaylineHeadingMode'):\n",
    "                                    text('true')\n",
    "\n",
    "                                with tag('mis:useWaylinePointType'):\n",
    "                                    text('true')\n",
    "\n",
    "                                with tag('mis:pointType'):\n",
    "                                    text('LineStop')\n",
    "\n",
    "                                with tag('mis:cornerRadius'):\n",
    "                                    text('0.2')\n",
    "\n",
    "                                with tag('mis:actions',('param', \"2000\"),('accuracy', \"0\"),('cameraIndex', \"0\"),('payloadType', \"0\")\n",
    "                                            ,('payloadIndex', \"0\")):\n",
    "                                    text('Hovering')\n",
    "                                    \n",
    "                                with tag('mis:actions',('param', \"0\"),('accuracy', \"0\"),('cameraIndex', \"0\"),('payloadType', \"0\")\n",
    "                                            ,('payloadIndex', \"0\")):\n",
    "                                    text('ShootPhoto')\n",
    "                                    \n",
    "                            with tag(\"Point\"):\n",
    "                                with tag('altitudeMode'):\n",
    "                                        text('relativeToGround')\n",
    "\n",
    "                                with tag('coordinates'):\n",
    "                                        text(f'{lo},{la},{a}')\n",
    "\n",
    "            with tag('Placemark'):\n",
    "                with tag('name'):\n",
    "                    text(f'Wayline')\n",
    "\n",
    "                with tag('description'):\n",
    "                    text(f'Wayline')\n",
    "\n",
    "                with tag('visibility'):\n",
    "                    text(f'1')\n",
    "\n",
    "                with tag('ExtendedData',('xmlns:mis', \"www.dji.com\")):\n",
    "\n",
    "                    with tag('mis:altitude'):\n",
    "                        text('20.0')\n",
    "\n",
    "                    with tag('mis:autoFlightSpeed'):\n",
    "                        text(f'1.0')\n",
    "\n",
    "                    with tag('mis:actionOnFinish'):\n",
    "                        text('Hover')\n",
    "\n",
    "                    with tag('mis:headingMode'):\n",
    "                        text('UsePointSetting')\n",
    "\n",
    "                    with tag('mis:gimbalPitchMode'):\n",
    "                        text('UsePointSetting')\n",
    "\n",
    "                    with tag('mis:powerSaveMode'):\n",
    "                        text('false')\n",
    "\n",
    "                    with tag('mis:waypointType'):\n",
    "                        text('LineStop')\n",
    "\n",
    "                    with tag('mis:droneInfo'):\n",
    "                        with tag('mis:droneType'):\n",
    "                            text('COMMON')\n",
    "                        with tag('mis:advanceSettings'):\n",
    "                            text('false')\n",
    "                        with tag('mis:droneCameras'):\n",
    "                            text('')\n",
    "                        with tag('mis:droneHeight'):\n",
    "                            with tag('mis:useAbsolute'):\n",
    "                                text('false')\n",
    "                            with tag('mis:hasTakeoffHeight'):\n",
    "                                text('false')\n",
    "                            with tag('mis:takeoffHeight'):\n",
    "                                text('0.0')\n",
    "\n",
    "\n",
    "                with tag('styleUrl'):\n",
    "                    text('#waylineGreenPoly')\n",
    "\n",
    "                with tag(\"LineString\"):\n",
    "                    with tag('tessellate'):\n",
    "                            text('1')\n",
    "\n",
    "                    with tag('altitudeMode'):\n",
    "                            text('relativeToGround')\n",
    "\n",
    "                    with tag('coordinates'):\n",
    "                        coordinates_total = ''\n",
    "\n",
    "                        for i in total_coord:\n",
    "                            coordinates_total = coordinates_total + str(i[0]) + ',' + str(i[1]) + ',' + str(i[2])[:5] + ' '\n",
    "\n",
    "                        text(f'{coordinates_total}')\n",
    "\n",
    "\n",
    "    result = indent(\n",
    "        doc.getvalue(),\n",
    "        indentation = ' '*4,\n",
    "        newline = '\\r\\n'\n",
    "    )\n",
    "\n",
    "    \n",
    "\n",
    "    save_path_file = name\n",
    "    with open(save_path_file, \"w\") as f: \n",
    "        f.write(result)  \n",
    "\n",
    "\n"
   ]
  },
  {
   "cell_type": "code",
   "execution_count": 124,
   "metadata": {},
   "outputs": [],
   "source": [
    "get_KML(target,ref,'091620-tree-05.kml')"
   ]
  },
  {
   "cell_type": "code",
   "execution_count": 125,
   "metadata": {},
   "outputs": [
    {
     "data": {
      "text/plain": [
       "(0.011016690899817088, 327.22185293188954)"
      ]
     },
     "execution_count": 125,
     "metadata": {},
     "output_type": "execute_result"
    }
   ],
   "source": [
    "haversine(77.34990317,11.2020383,77.34984849,11.20212160)"
   ]
  },
  {
   "cell_type": "code",
   "execution_count": 126,
   "metadata": {},
   "outputs": [
    {
     "data": {
      "text/plain": [
       "18"
      ]
     },
     "execution_count": 126,
     "metadata": {},
     "output_type": "execute_result"
    }
   ],
   "source": [
    "18"
   ]
  },
  {
   "cell_type": "code",
   "execution_count": 127,
   "metadata": {},
   "outputs": [],
   "source": [
    "!open .\n"
   ]
  },
  {
   "cell_type": "code",
   "execution_count": null,
   "metadata": {},
   "outputs": [],
   "source": []
  }
 ],
 "metadata": {
  "kernelspec": {
   "display_name": "Python 3",
   "language": "python",
   "name": "python3"
  },
  "language_info": {
   "codemirror_mode": {
    "name": "ipython",
    "version": 3
   },
   "file_extension": ".py",
   "mimetype": "text/x-python",
   "name": "python",
   "nbconvert_exporter": "python",
   "pygments_lexer": "ipython3",
   "version": "3.7.9"
  }
 },
 "nbformat": 4,
 "nbformat_minor": 4
}
