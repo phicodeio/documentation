{
 "cells": [
  {
   "cell_type": "code",
   "execution_count": 96,
   "metadata": {},
   "outputs": [],
   "source": [
    "import math\n",
    "from geopy import distance\n",
    "import geopy\n",
    "import numpy as np\n",
    "import math"
   ]
  },
  {
   "cell_type": "markdown",
   "metadata": {},
   "source": [
    "# Lidar Parameters \n",
    "__target_distance__ , __target_bearing__"
   ]
  },
  {
   "cell_type": "code",
   "execution_count": 97,
   "metadata": {},
   "outputs": [],
   "source": [
    "# Lidar Heading -> CALCULATED FROM COMPASS \n",
    "lidar_heading = 357"
   ]
  },
  {
   "cell_type": "code",
   "execution_count": 118,
   "metadata": {},
   "outputs": [],
   "source": [
    "# Lidar Coordinates \n",
    "x = 40.78875\n",
    "y = -2.13522\n"
   ]
  },
  {
   "cell_type": "code",
   "execution_count": 120,
   "metadata": {},
   "outputs": [
    {
     "data": {
      "text/plain": [
       "0.040844599288166604"
      ]
     },
     "execution_count": 120,
     "metadata": {},
     "output_type": "execute_result"
    }
   ],
   "source": [
    "target_distance"
   ]
  },
  {
   "cell_type": "code",
   "execution_count": 100,
   "metadata": {},
   "outputs": [],
   "source": [
    "if x==0:\n",
    "    target_bearing = 90\n",
    "else: \n",
    "    target_bearing = math.degrees(math.atan(y/x))"
   ]
  },
  {
   "cell_type": "code",
   "execution_count": 110,
   "metadata": {},
   "outputs": [
    {
     "name": "stdout",
     "output_type": "stream",
     "text": [
      "9.430744853480686 0.028782124507471647\n"
     ]
    }
   ],
   "source": [
    "print(target_bearing,target_distance)"
   ]
  },
  {
   "cell_type": "markdown",
   "metadata": {},
   "source": [
    "----------"
   ]
  },
  {
   "cell_type": "markdown",
   "metadata": {},
   "source": [
    "# Coordinate Calculation "
   ]
  },
  {
   "cell_type": "code",
   "execution_count": 102,
   "metadata": {},
   "outputs": [],
   "source": [
    "def get_coord_2(bearing,lat,lon,dist):\n",
    "    b = bearing\n",
    "    d = dist\n",
    "    lat1 = lat \n",
    "    lon1 = lon\n",
    "    origin = geopy.Point(lat1, lon1)\n",
    "    for model_name in models :\n",
    "        destination = distance.geodesic(kilometers=d,ellipsoid=model_name).destination(origin, b,)\n",
    "        lat2, lon2 = destination.latitude, destination.longitude\n",
    "        print(model_name,' \\t: ',lat2,lon2)\n",
    "        \n",
    "        \n",
    "ELLIPSOIDS = {'WGS-84':        (6378.137,    6356.7523142,  1 / 298.257223563),\n",
    "              'GRS-80':        (6378.137,    6356.7523141,  1 / 298.257222101),\n",
    "              'Airy (1830)':   (6377.563396, 6356.256909,   1 / 299.3249646),\n",
    "              'Intl 1924':     (6378.388,    6356.911946,   1 / 297.0),\n",
    "              'Clarke (1880)': (6378.249145, 6356.51486955, 1 / 293.465),\n",
    "              'GRS-67':        (6378.1600,   6356.774719,   1 / 298.25),\n",
    "              }\n",
    "\n",
    "models = list(ELLIPSOIDS.keys())"
   ]
  },
  {
   "cell_type": "code",
   "execution_count": 103,
   "metadata": {},
   "outputs": [],
   "source": [
    "lat0 = 11.18138094 \n",
    "long0 = 77.29686197"
   ]
  },
  {
   "cell_type": "markdown",
   "metadata": {},
   "source": [
    "# PLAYGROUND"
   ]
  },
  {
   "cell_type": "code",
   "execution_count": 121,
   "metadata": {},
   "outputs": [
    {
     "name": "stdout",
     "output_type": "stream",
     "text": [
      "WGS-84  \t:  11.1817329799017 77.29684906312897\n",
      "GRS-80  \t:  11.181732979901708 77.29684906312897\n",
      "Airy (1830)  \t:  11.181733004723378 77.29684906168573\n",
      "Intl 1924  \t:  11.18173297530236 77.29684906376579\n",
      "Clarke (1880)  \t:  11.181733011678373 77.29684906344248\n",
      "GRS-67  \t:  11.181732978628137 77.2968490631866\n"
     ]
    }
   ],
   "source": [
    "# TEST 1 \n",
    "get_coord_2(bearing=357.5529531781412,lat=11.18136407,lon=77.29686503,dist=0.040844599288166604)\n"
   ]
  },
  {
   "cell_type": "code",
   "execution_count": 122,
   "metadata": {},
   "outputs": [
    {
     "name": "stdout",
     "output_type": "stream",
     "text": [
      "WGS-84  \t:  11.181654191000133 77.29663369693603\n",
      "GRS-80  \t:  11.181654191000138 77.29663369693603\n",
      "Airy (1830)  \t:  11.18165421052058 77.29663367602596\n",
      "Intl 1924  \t:  11.181654187383087 77.29663370616244\n",
      "Clarke (1880)  \t:  11.181654215990207 77.29663370147819\n",
      "GRS-67  \t:  11.181654189998564 77.29663369777093\n"
     ]
    }
   ],
   "source": [
    "# TEST 1 \n",
    "get_coord_2(bearing=321.7864753381412,lat=11.18136407,lon=77.29686503,dist=0.040844599288166604)\n"
   ]
  },
  {
   "cell_type": "code",
   "execution_count": null,
   "metadata": {},
   "outputs": [],
   "source": [
    "waypoint2 - plus \n",
    "GRS-67  \t:  11.181599034210928 77.29692293846914\n",
    "\n",
    "waypoint2 - minus \n",
    "GRS-67  \t:  11.181606784427931 77.29684825770764"
   ]
  },
  {
   "cell_type": "code",
   "execution_count": null,
   "metadata": {},
   "outputs": [],
   "source": []
  },
  {
   "cell_type": "code",
   "execution_count": null,
   "metadata": {},
   "outputs": [],
   "source": []
  },
  {
   "cell_type": "code",
   "execution_count": null,
   "metadata": {},
   "outputs": [],
   "source": []
  },
  {
   "cell_type": "code",
   "execution_count": null,
   "metadata": {},
   "outputs": [],
   "source": []
  },
  {
   "cell_type": "code",
   "execution_count": null,
   "metadata": {},
   "outputs": [],
   "source": []
  },
  {
   "cell_type": "code",
   "execution_count": null,
   "metadata": {},
   "outputs": [],
   "source": []
  },
  {
   "cell_type": "code",
   "execution_count": null,
   "metadata": {},
   "outputs": [],
   "source": []
  },
  {
   "cell_type": "code",
   "execution_count": null,
   "metadata": {},
   "outputs": [],
   "source": []
  },
  {
   "cell_type": "code",
   "execution_count": null,
   "metadata": {},
   "outputs": [],
   "source": []
  },
  {
   "cell_type": "code",
   "execution_count": null,
   "metadata": {},
   "outputs": [],
   "source": [
    "def get_coord_1(bearing=90,lat=52.20444,lon=0.36056,dist=15,Rmodel='dji'):\n",
    "    brng = math.radians(bearing)\n",
    "    \n",
    "    d = dist \n",
    "    if Rmodel=='dji' :\n",
    "        R = 6378.137\n",
    "    elif Rmodel=='google':\n",
    "        R = 6371.0710\n",
    "    lat1 = math.radians(lat)\n",
    "    lon1 = math.radians(lon) \n",
    "    lat2 = math.asin( math.sin(lat1)*math.cos(d/R) + math.cos(lat1)*math.sin(d/R)*math.cos(brng))\n",
    "    lon2 = lon1 + math.atan2(math.sin(brng)*math.sin(d/R)*math.cos(lat1),math.cos(d/R)-math.sin(lat1)*math.sin(lat2))\n",
    "    lat2 = math.degrees(lat2)\n",
    "    lon2 = math.degrees(lon2)\n",
    "    \n",
    "    print (Rmodel,' \\t\\t', lat2,lon2)"
   ]
  }
 ],
 "metadata": {
  "kernelspec": {
   "display_name": "Python 3",
   "language": "python",
   "name": "python3"
  },
  "language_info": {
   "codemirror_mode": {
    "name": "ipython",
    "version": 3
   },
   "file_extension": ".py",
   "mimetype": "text/x-python",
   "name": "python",
   "nbconvert_exporter": "python",
   "pygments_lexer": "ipython3",
   "version": "3.7.9"
  }
 },
 "nbformat": 4,
 "nbformat_minor": 4
}
