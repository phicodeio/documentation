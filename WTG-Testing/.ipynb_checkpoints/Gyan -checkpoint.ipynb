{
 "cells": [
  {
   "cell_type": "code",
   "execution_count": 25,
   "metadata": {},
   "outputs": [],
   "source": [
    "import math\n",
    "from geopy import distance\n",
    "import geopy\n",
    "import numpy as np\n",
    "import math"
   ]
  },
  {
   "cell_type": "markdown",
   "metadata": {},
   "source": [
    "# Lidar Parameters \n",
    "__target_distance__ , __target_bearing__"
   ]
  },
  {
   "cell_type": "code",
   "execution_count": 10,
   "metadata": {},
   "outputs": [],
   "source": [
    "# Lidar Heading -> CALCULATED FROM COMPASS \n",
    "lidar_heading = 354"
   ]
  },
  {
   "cell_type": "code",
   "execution_count": 26,
   "metadata": {},
   "outputs": [],
   "source": [
    "# Lidar Coordinates \n",
    "x = 27.4515\n",
    "y = -2.2302\n",
    "z = 1.5125 "
   ]
  },
  {
   "cell_type": "code",
   "execution_count": 27,
   "metadata": {},
   "outputs": [],
   "source": [
    "target_distance = (x**2 + y**2)**0.5"
   ]
  },
  {
   "cell_type": "code",
   "execution_count": 40,
   "metadata": {},
   "outputs": [],
   "source": [
    "if x==0:\n",
    "    target_bearing = 90\n",
    "else: \n",
    "    target_bearing = math.degrees(math.atan(y/x))"
   ]
  },
  {
   "cell_type": "code",
   "execution_count": 41,
   "metadata": {},
   "outputs": [
    {
     "name": "stdout",
     "output_type": "stream",
     "text": [
      "-4.644592454687176 27.541943364439625\n"
     ]
    }
   ],
   "source": [
    "print(target_bearing,target_distance)"
   ]
  },
  {
   "cell_type": "markdown",
   "metadata": {},
   "source": [
    "----------"
   ]
  },
  {
   "cell_type": "code",
   "execution_count": null,
   "metadata": {},
   "outputs": [],
   "source": [
    "\n"
   ]
  },
  {
   "cell_type": "markdown",
   "metadata": {},
   "source": [
    "# Coordinate Calculation "
   ]
  },
  {
   "cell_type": "code",
   "execution_count": 42,
   "metadata": {},
   "outputs": [],
   "source": [
    "def get_coord_2(bearing=90,lat=52.20444,lon=0.36056,dist=15):\n",
    "    b = bearing\n",
    "    d = dist\n",
    "    lat1 = lat \n",
    "    lon1 = lon\n",
    "    origin = geopy.Point(lat1, lon1)\n",
    "    for model_name in models :\n",
    "        destination = distance.geodesic(kilometers=d,ellipsoid=model_name).destination(origin, b,)\n",
    "        lat2, lon2 = destination.latitude, destination.longitude\n",
    "        print(model_name,' \\t: ',lat2,lon2)\n",
    "        \n",
    "        \n",
    "ELLIPSOIDS = {'WGS-84':        (6378.137,    6356.7523142,  1 / 298.257223563),\n",
    "              'GRS-80':        (6378.137,    6356.7523141,  1 / 298.257222101),\n",
    "              'Airy (1830)':   (6377.563396, 6356.256909,   1 / 299.3249646),\n",
    "              'Intl 1924':     (6378.388,    6356.911946,   1 / 297.0),\n",
    "              'Clarke (1880)': (6378.249145, 6356.51486955, 1 / 293.465),\n",
    "              'GRS-67':        (6378.1600,   6356.774719,   1 / 298.25),\n",
    "              }\n",
    "\n",
    "models = list(ELLIPSOIDS.keys())\n",
    "\n",
    "\n",
    "def get_coord_1(bearing=90,lat=52.20444,lon=0.36056,dist=15,Rmodel='dji'):\n",
    "    brng = math.radians(bearing)\n",
    "    \n",
    "    d = dist \n",
    "    if Rmodel=='dji' :\n",
    "        R = 6378.137\n",
    "    elif Rmodel=='google':\n",
    "        R = 6371.0710\n",
    "    lat1 = math.radians(lat)\n",
    "    lon1 = math.radians(lon) \n",
    "    lat2 = math.asin( math.sin(lat1)*math.cos(d/R) + math.cos(lat1)*math.sin(d/R)*math.cos(brng))\n",
    "    lon2 = lon1 + math.atan2(math.sin(brng)*math.sin(d/R)*math.cos(lat1),math.cos(d/R)-math.sin(lat1)*math.sin(lat2))\n",
    "    lat2 = math.degrees(lat2)\n",
    "    lon2 = math.degrees(lon2)\n",
    "    \n",
    "    print (Rmodel,' \\t\\t', lat2,lon2)"
   ]
  },
  {
   "cell_type": "code",
   "execution_count": 43,
   "metadata": {},
   "outputs": [],
   "source": [
    "o_lat = 11.18138217  # Lidar Latitude\n",
    "o_lon = 77.29686125    # Lidar Longitude "
   ]
  },
  {
   "cell_type": "markdown",
   "metadata": {},
   "source": [
    "# PLAYGROUND"
   ]
  },
  {
   "cell_type": "code",
   "execution_count": 39,
   "metadata": {},
   "outputs": [
    {
     "name": "stdout",
     "output_type": "stream",
     "text": [
      "google  \t\t 11.181629788584486 77.29685527779338\n",
      "WGS-84  \t:  11.181631087215095 77.29685528516058\n",
      "GRS-80  \t:  11.181631087215102 77.29685528516058\n",
      "Airy (1830)  \t:  11.181631103963202 77.29685528462142\n",
      "Intl 1924  \t:  11.181631084111752 77.29685528539848\n",
      "Clarke (1880)  \t:  11.18163110865601 77.2968552852777\n",
      "GRS-67  \t:  11.181631086355774 77.2968552851821\n",
      "\n",
      "\n",
      "Actual Value: 11.12327483 77.32852960\n"
     ]
    }
   ],
   "source": [
    "# TEST 1 \n",
    "get_coord_1(bearing=353 +target_bearing ,lat=o_lat,lon=o_lon,dist=0.027541943364439625,Rmodel='google')\n",
    "get_coord_2(bearing=353 +target_bearing,lat=o_lat,lon=o_lon,dist=0.027541943364439625)\n",
    "\n",
    "\n"
   ]
  },
  {
   "cell_type": "code",
   "execution_count": 12,
   "metadata": {},
   "outputs": [
    {
     "data": {
      "text/plain": [
       "(11.12329058, 77.328533573)"
      ]
     },
     "execution_count": 12,
     "metadata": {},
     "output_type": "execute_result"
    }
   ],
   "source": [
    "11.12329058,77.328533573"
   ]
  },
  {
   "cell_type": "code",
   "execution_count": null,
   "metadata": {},
   "outputs": [],
   "source": []
  },
  {
   "cell_type": "code",
   "execution_count": null,
   "metadata": {},
   "outputs": [],
   "source": []
  },
  {
   "cell_type": "code",
   "execution_count": null,
   "metadata": {},
   "outputs": [],
   "source": []
  },
  {
   "cell_type": "code",
   "execution_count": 146,
   "metadata": {},
   "outputs": [],
   "source": [
    "o_lat = 11.20117729\n",
    "o_lon = 77.35185637"
   ]
  },
  {
   "cell_type": "code",
   "execution_count": 147,
   "metadata": {},
   "outputs": [
    {
     "data": {
      "text/plain": [
       "241.11327676109974"
      ]
     },
     "execution_count": 147,
     "metadata": {},
     "output_type": "execute_result"
    }
   ],
   "source": [
    "245-3.8867232389002693"
   ]
  },
  {
   "cell_type": "code",
   "execution_count": 136,
   "metadata": {},
   "outputs": [
    {
     "data": {
      "text/plain": [
       "77.73"
      ]
     },
     "execution_count": 136,
     "metadata": {},
     "output_type": "execute_result"
    }
   ],
   "source": [
    "98-20.27"
   ]
  },
  {
   "cell_type": "code",
   "execution_count": 35,
   "metadata": {},
   "outputs": [
    {
     "name": "stdout",
     "output_type": "stream",
     "text": [
      "google  \t\t 11.181262516977027 77.29664018417529\n",
      "WGS-84  \t:  11.181261889457813 77.2966404568777\n",
      "GRS-80  \t:  11.181261889457806 77.2966404568777\n",
      "Airy (1830)  \t:  11.181261881364874 77.29664043692037\n",
      "Intl 1924  \t:  11.18126189095739 77.29664046568374\n",
      "Clarke (1880)  \t:  11.18126187909722 77.29664046121292\n",
      "GRS-67  \t:  11.181261889873051 77.29664045767457\n",
      "\n",
      "\n"
     ]
    }
   ],
   "source": [
    "get_coord_1(bearing=241.11327676109974,lat=o_lat,lon=o_lon,dist=0.027541943364439625,Rmodel='google')\n",
    "get_coord_2(bearing=241.11327676109974,lat=o_lat,lon=o_lon,dist=0.027541943364439625)\n",
    "print('\\n')\n"
   ]
  },
  {
   "cell_type": "code",
   "execution_count": null,
   "metadata": {},
   "outputs": [],
   "source": [
    "\n"
   ]
  },
  {
   "cell_type": "code",
   "execution_count": 17,
   "metadata": {},
   "outputs": [],
   "source": [
    "# LIDAR \n",
    "o_lat = 11.12321889\n",
    "o_lon = 77.32847495"
   ]
  },
  {
   "cell_type": "code",
   "execution_count": 43,
   "metadata": {},
   "outputs": [
    {
     "name": "stdout",
     "output_type": "stream",
     "text": [
      "google  \t\t 11.12324497795131 77.32852333593273\n",
      "WGS-84  \t:  11.12324511487072 77.32852327630711\n",
      "GRS-80  \t:  11.123245114870723 77.32852327630711\n",
      "Airy (1830)  \t:  11.123245116634868 77.32852328067507\n",
      "Intl 1924  \t:  11.123245114544197 77.32852327437995\n",
      "Clarke (1880)  \t:  11.123245117131306 77.32852327535926\n",
      "GRS-67  \t:  11.123245114780186 77.3285232761327\n",
      "\n",
      "\n"
     ]
    }
   ],
   "source": [
    "get_coord_1(bearing=53+8.21180243353116,lat=o_lat,lon=o_lon,dist=.006023758958,Rmodel='google')\n",
    "get_coord_2(bearing=53+8.21180243353116,lat=o_lat,lon=o_lon,dist=.006023758958)\n",
    "print('\\n')\n"
   ]
  },
  {
   "cell_type": "code",
   "execution_count": 27,
   "metadata": {},
   "outputs": [
    {
     "ename": "SyntaxError",
     "evalue": "invalid syntax (<ipython-input-27-ae173252fe15>, line 1)",
     "output_type": "error",
     "traceback": [
      "\u001b[0;36m  File \u001b[0;32m\"<ipython-input-27-ae173252fe15>\"\u001b[0;36m, line \u001b[0;32m1\u001b[0m\n\u001b[0;31m    11.159538408540925 77.37729008717933\u001b[0m\n\u001b[0m                                       ^\u001b[0m\n\u001b[0;31mSyntaxError\u001b[0m\u001b[0;31m:\u001b[0m invalid syntax\n"
     ]
    }
   ],
   "source": [
    "FRONT 53\n",
    "original -     11.12325309            77.32852050\n",
    "wwith offset - 11.123254132807903     77.328524564793\n",
    "w/o offset -   11.123255213524041     77.3285237590918"
   ]
  },
  {
   "cell_type": "code",
   "execution_count": 25,
   "metadata": {},
   "outputs": [
    {
     "ename": "SyntaxError",
     "evalue": "invalid syntax (<ipython-input-25-74ee746100e2>, line 1)",
     "output_type": "error",
     "traceback": [
      "\u001b[0;36m  File \u001b[0;32m\"<ipython-input-25-74ee746100e2>\"\u001b[0;36m, line \u001b[0;32m1\u001b[0m\n\u001b[0;31m    11.158457563242346 77.37809570510038\u001b[0m\n\u001b[0m                                       ^\u001b[0m\n\u001b[0;31mSyntaxError\u001b[0m\u001b[0;31m:\u001b[0m invalid syntax\n"
     ]
    }
   ],
   "source": [
    "LEFT\n",
    "original -     11.12327307        77.32852003\n",
    "wwith offset -  11.12327485381429 77.32852346200619\n",
    "w/o offset -   11.123263225727525 77.32853452535133"
   ]
  },
  {
   "cell_type": "code",
   "execution_count": null,
   "metadata": {},
   "outputs": [],
   "source": [
    "RIGHT\n",
    "original -    \n",
    "11.12324264    77.32852068 \n",
    "\n",
    "\n",
    "\n",
    "wwith offset -  \n",
    "google  \t\t 11.12324497795131 77.32852333593273\n",
    "WGS-84  \t:  11.12324511487072 77.32852327630711\n",
    "GRS-80  \t:  11.123245114870723 77.32852327630711\n",
    "Airy (1830)  \t:  11.123245116634868 77.32852328067507\n",
    "Intl 1924  \t:  11.123245114544197 77.32852327437995\n",
    "Clarke (1880)  \t:  11.123245117131306 77.32852327535926\n",
    "GRS-67  \t:  11.123245114780186 77.3285232761327\n",
    "\n",
    "\n",
    "\n",
    "\n",
    "\n",
    "w/o offset -  \n",
    "google  \t\t 11.12325149173813 77.32851904226933\n",
    "WGS-84  \t:  11.123251662844348 77.32851898793477\n",
    "GRS-80  \t:  11.123251662844345 77.32851898793477\n",
    "Airy (1830)  \t:  11.123251665048976 77.32851899191513\n",
    "Intl 1924  \t:  11.123251662436294 77.32851898617862\n",
    "Clarke (1880)  \t:  11.12325166566936 77.32851898707102\n",
    "GRS-67  \t:  11.123251662731208 77.32851898777584\n",
    "\n",
    "\n"
   ]
  },
  {
   "cell_type": "code",
   "execution_count": null,
   "metadata": {},
   "outputs": [],
   "source": []
  },
  {
   "cell_type": "code",
   "execution_count": null,
   "metadata": {},
   "outputs": [],
   "source": []
  },
  {
   "cell_type": "code",
   "execution_count": null,
   "metadata": {},
   "outputs": [],
   "source": [
    "53 "
   ]
  }
 ],
 "metadata": {
  "kernelspec": {
   "display_name": "Python 3",
   "language": "python",
   "name": "python3"
  },
  "language_info": {
   "codemirror_mode": {
    "name": "ipython",
    "version": 3
   },
   "file_extension": ".py",
   "mimetype": "text/x-python",
   "name": "python",
   "nbconvert_exporter": "python",
   "pygments_lexer": "ipython3",
   "version": "3.7.9"
  }
 },
 "nbformat": 4,
 "nbformat_minor": 4
}
