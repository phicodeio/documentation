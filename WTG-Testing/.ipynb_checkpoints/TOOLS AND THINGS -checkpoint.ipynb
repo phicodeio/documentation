{
 "cells": [
  {
   "cell_type": "markdown",
   "metadata": {},
   "source": [
    "# METHOD 1 "
   ]
  },
  {
   "cell_type": "code",
   "execution_count": 113,
   "metadata": {},
   "outputs": [],
   "source": [
    "import math\n",
    "\n",
    "# distance in km \n",
    "# bearing in degrees \n",
    "# lat long in decimals \n",
    "\n",
    "def get_coord_1(bearing=90,lat=52.20444,lon=0.36056,distance=15,Rmodel='dji'):\n",
    "    \n",
    "    bearing = math.radians(bearing)\n",
    "    if Rmodel=='dji' :\n",
    "        R = 6378.137\n",
    "    elif Rmodel=='google':\n",
    "        R = 6371.0710\n",
    "    lat1 = math.radians(lat)\n",
    "    lon1 = math.radians(lon) \n",
    "    \n",
    "    lat2 = math.asin( math.sin(lat1)*math.cos(d/R) +\n",
    "     math.cos(lat1)*math.sin(d/R)*math.cos(brng))\n",
    "    \n",
    "    lon2 = lon1 + math.atan2(math.sin(brng)*math.sin(d/R)*math.cos(lat1),\n",
    "             math.cos(d/R)-math.sin(lat1)*math.sin(lat2))\n",
    "    \n",
    "    lat2 = math.degrees(lat2)\n",
    "    lon2 = math.degrees(lon2)\n",
    "    \n",
    "    print (Rmodel,' \\t\\t', lat2,lon2)"
   ]
  },
  {
   "cell_type": "markdown",
   "metadata": {},
   "source": [
    "# METHOD 2 "
   ]
  },
  {
   "cell_type": "code",
   "execution_count": 114,
   "metadata": {},
   "outputs": [],
   "source": [
    "ELLIPSOIDS = {'WGS-84':        (6378.137,    6356.7523142,  1 / 298.257223563),\n",
    "              'GRS-80':        (6378.137,    6356.7523141,  1 / 298.257222101),\n",
    "              'Airy (1830)':   (6377.563396, 6356.256909,   1 / 299.3249646),\n",
    "              'Intl 1924':     (6378.388,    6356.911946,   1 / 297.0),\n",
    "              'Clarke (1880)': (6378.249145, 6356.51486955, 1 / 293.465),\n",
    "              'GRS-67':        (6378.1600,   6356.774719,   1 / 298.25),\n",
    "              }\n",
    "\n",
    "models = list(ELLIPSOIDS.keys())"
   ]
  },
  {
   "cell_type": "code",
   "execution_count": 115,
   "metadata": {},
   "outputs": [],
   "source": [
    "from geopy import distance\n",
    "\n",
    "\n",
    "\n",
    "def get_coord_2(bearing=90,lat=52.20444,lon=0.36056,dist=15):\n",
    "    b = bearing\n",
    "    d = dist\n",
    "    lat1 = lat \n",
    "    lon1 = lon\n",
    "    origin = geopy.Point(lat1, lon1)\n",
    "    for model_name in models :\n",
    "        destination = distance.geodesic(kilometers=d,ellipsoid=model_name).destination(origin, b,)\n",
    "        lat2, lon2 = destination.latitude, destination.longitude\n",
    "        print(model_name,' \\t: ',lat2,lon2)\n",
    "\n"
   ]
  },
  {
   "cell_type": "code",
   "execution_count": null,
   "metadata": {},
   "outputs": [],
   "source": []
  },
  {
   "cell_type": "markdown",
   "metadata": {},
   "source": [
    "# TESTING "
   ]
  },
  {
   "cell_type": "code",
   "execution_count": 116,
   "metadata": {},
   "outputs": [
    {
     "name": "stdout",
     "output_type": "stream",
     "text": [
      "google  \t\t 52.204440007160535 0.36057467434823726\n",
      "dji  \t\t 52.2044400071526 0.36057465809130446\n",
      "WGS-84  \t:  52.20423603663897 0.5799707454733501\n",
      "GRS-80  \t:  52.20423603663898 0.5799707454710966\n",
      "Airy (1830)  \t:  52.2042359987452 0.579992119438921\n",
      "Intl 1924  \t:  52.20423605411823 0.5799601653691756\n",
      "Clarke (1880)  \t:  52.20423604931614 0.5799593806589842\n",
      "GRS-67  \t:  52.20423603811815 0.579969943136307\n"
     ]
    }
   ],
   "source": [
    "get_coord_1(bearing=90,lat=52.20444,lon=0.36056,distance=15,Rmodel='google')\n",
    "get_coord_1(bearing=90,lat=52.20444,lon=0.36056,distance=15,Rmodel='dji')\n",
    "get_coord_2()"
   ]
  }
 ],
 "metadata": {
  "kernelspec": {
   "display_name": "Python 3",
   "language": "python",
   "name": "python3"
  },
  "language_info": {
   "codemirror_mode": {
    "name": "ipython",
    "version": 3
   },
   "file_extension": ".py",
   "mimetype": "text/x-python",
   "name": "python",
   "nbconvert_exporter": "python",
   "pygments_lexer": "ipython3",
   "version": "3.7.9"
  }
 },
 "nbformat": 4,
 "nbformat_minor": 4
}
