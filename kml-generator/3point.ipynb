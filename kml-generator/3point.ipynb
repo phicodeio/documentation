{
 "cells": [
  {
   "cell_type": "code",
   "execution_count": 1,
   "metadata": {},
   "outputs": [],
   "source": [
    "import math\n",
    "import numpy as np\n",
    "from math import radians, cos, sin, asin, sqrt, atan\n",
    "from yattag import Doc, indent\n",
    "from numpy import cross, eye, dot\n",
    "\n",
    "\n",
    "\n",
    "def haversine(lon1, lat1, lon2, lat2):\n",
    "    \"\"\"\n",
    "    Calculate the great circle distance between two points \n",
    "    on the earth (specified in decimal degrees)\n",
    "    \"\"\"\n",
    "    # convert decimal degrees to radians \n",
    "    lon1, lat1, lon2, lat2 = map(radians, [lon1, lat1, lon2, lat2])\n",
    "\n",
    "    # haversine formula \n",
    "    dlon = lon2 - lon1 \n",
    "    dlat = lat2 - lat1 \n",
    "    a = sin(dlat/2)**2 + cos(lat1) * cos(lat2) * sin(dlon/2)**2\n",
    "    c = 2 * asin(sqrt(a)) \n",
    "    r = 6371 # Radius of earth in kilometers. Use 3956 for miles\n",
    "    \n",
    "    \n",
    "    bearing = math.atan2(sin(lon2-lon1)*cos(lat2), cos(lat1)*sin(lat2)-sin(lat1)*cos(lat2)*cos(lon2-lon1))\n",
    "    bearing = math.degrees(bearing)\n",
    "    bearing = (bearing + 360) % 360\n",
    "    return c * r , bearing"
   ]
  },
  {
   "cell_type": "code",
   "execution_count": 2,
   "metadata": {},
   "outputs": [],
   "source": [
    "t1 = [[10.897204588429265,77.26444321942787,34.887434334020230],[10.897205693051507,77.26444695096076,37.883694645255480],[10.897206797673709,77.26445068249369,40.8799549564907350],[10.897207902295861,77.26445441402663,43.876215267725980],[10.897209006917972,77.26445814555962,46.8724755789612360],[10.897210111540035,77.2644618770926,49.868735890196490],[10.897211216162052,77.26446560862564,52.8649962014317440],[10.897212320784027,77.2644693401587,55.8612565126670],[10.897213425405955,77.26447307169178,58.8575168239022450],[10.897214530027838,77.2644768032249,61.8537771351375060],[10.8973140085152,77.26437734861904,35.366733089703160],[10.897315113138243,77.26438108015307,38.3629934009384140],[10.897316217761238,77.26438481168711,41.359253712173660],[10.897317322384188,77.26438854322119,44.3555140234089150],[10.897318427007091,77.26439227475528,47.351774334644170],[10.897319531629954,77.26439600628942,50.348034645879420],[10.897320636252768,77.26439973782358,53.344294957114680],[10.897321740875539,77.26440346935776,56.340555268349930],[10.897322845498262,77.26440720089198,59.336815579585180],[10.897323950120942,77.26441093242622,62.333075890820440],[10.897378629136465,77.26448749270847,33.43669402416410],[10.897379733758175,77.26449122424371,36.432954335399350],[10.897380838379837,77.26449495577897,39.4292146466346050],[10.897381943001456,77.26449868731427,42.425474957869850],[10.89738304762303,77.26450241884959,45.4217352691051060],[10.897384152244557,77.26450615038495,48.417995580340360],[10.897385256866043,77.26450988192032,51.4142558915756140],[10.897386361487479,77.26451361345572,54.410516202810870],[10.897387466108873,77.26451734499115,57.4067765140461150],[10.89738857073022,77.26452107652662,60.4030368252813760],[10.897269209027023,77.2645533634911,32.9573952684811640],[10.897270313647933,77.26455709502521,35.953655579716420],[10.8972714182688,77.26456082655935,38.949915890951670],[10.897272522889622,77.26456455809351,41.9461762021869260],[10.8972736275104,77.2645682896277,44.942436513422180],[10.897274732131132,77.26457202116194,47.938696824657430],[10.897275836751819,77.26457575269617,50.934957135892680],[10.89727694137246,77.26457948423047,53.9312174471279350],[10.89727804599306,77.26458321576477,56.927477758363180],[10.89727915061361,77.2645869472991,59.923738069598440],[10.897291608783659,77.26446535606169,34.162064179092160],[10.897292713405633,77.26446908759576,37.1583244903274160],[10.897293818027565,77.26447281912985,40.154584801562680],[10.897294922649452,77.26447655066397,43.150845112797920],[10.897296027271295,77.26448028219812,46.147105424033180],[10.89729713189309,77.2644840137323,49.143365735268430],[10.89729823651484,77.2644877452665,52.139626046503680],[10.897299341136547,77.26449147680073,55.1358863577389260],[10.897300445758209,77.26449520833499,58.132146668974190],[10.897301550379822,77.26449893986928,61.128406980209440]]"
   ]
  },
  {
   "cell_type": "code",
   "execution_count": 3,
   "metadata": {},
   "outputs": [],
   "source": [
    "\n",
    "n = 5 # 4 + 1 "
   ]
  },
  {
   "cell_type": "code",
   "execution_count": 4,
   "metadata": {},
   "outputs": [],
   "source": [
    "elementInPath = len(t1)/n"
   ]
  },
  {
   "cell_type": "code",
   "execution_count": 87,
   "metadata": {},
   "outputs": [
    {
     "data": {
      "text/plain": [
       "5"
      ]
     },
     "execution_count": 87,
     "metadata": {},
     "output_type": "execute_result"
    }
   ],
   "source": [
    "p = list()\n",
    "temp = list()\n",
    "flag = 0 \n",
    "for i in range(len(t1)):\n",
    "    if i%elementInPath== 0 and i!=0 :\n",
    "        flag = flag + 1 \n",
    "        p.append(temp)\n",
    "        temp = list() \n",
    "        \n",
    "    \n",
    "    temp.append(t1[i])\n",
    "    \n",
    "    if i== len(t1)-1:\n",
    "        p.append(temp)\n",
    "    \n",
    "    \n",
    "len(p)"
   ]
  },
  {
   "cell_type": "code",
   "execution_count": 88,
   "metadata": {},
   "outputs": [],
   "source": [
    "target = p[:len(p)-1]\n",
    "ref = p[len(p)-1:][0]\n"
   ]
  },
  {
   "cell_type": "code",
   "execution_count": 89,
   "metadata": {},
   "outputs": [
    {
     "data": {
      "text/plain": [
       "[[[10.897151771934832, 77.2644324003536, 35.28884066883571],\n",
       "  [10.897156742735163, 77.26444919224868, 48.77201206939435],\n",
       "  [10.897161713534583, 77.26446598414431, 62.25518346995298]],\n",
       " [[10.897325012939937, 77.26432394745429, 36.10949600063176],\n",
       "  [10.89732998374617, 77.26434073935731, 49.59266740119039],\n",
       "  [10.89733495455149, 77.26435753126091, 63.07583880174903]],\n",
       " [[10.897431445628966, 77.26449831180076, 33.035287689348614],\n",
       "  [10.897436416425712, 77.26451510371271, 46.51845908990725],\n",
       "  [10.897441387221546, 77.26453189562524, 60.001630490465885]],\n",
       " [[10.89725820456259, 77.26460676463736, 32.21463235755257],\n",
       "  [10.897263175353434, 77.26462355654137, 45.697803758111206],\n",
       "  [10.897268146143368, 77.26464034844591, 59.180975158669845]]]"
      ]
     },
     "execution_count": 89,
     "metadata": {},
     "output_type": "execute_result"
    }
   ],
   "source": [
    "target"
   ]
  },
  {
   "cell_type": "code",
   "execution_count": 90,
   "metadata": {},
   "outputs": [],
   "source": [
    "\n",
    "def get_KML(target,ref,name):\n",
    "    \n",
    "    total_coord = []\n",
    "    doc, tag, text = Doc().tagtext()\n",
    "    \n",
    "    with tag(\"kml\",('xmlns',\"http://www.opengis.net/kml/2.2\")):\n",
    "        with tag(\"Document\",('xmlns',\"\")):\n",
    "            with tag(\"name\"):\n",
    "                text('C2')\n",
    "\n",
    "            with tag('open'):\n",
    "                text(\"1\")\n",
    "\n",
    "            with tag(\"ExtendedData\",('xmlns:mis','www.dji.com')):\n",
    "                with tag('mis:type'):\n",
    "                    text('Waypoint')\n",
    "                with tag('mis:stationType'):     # CHECK THIS SETTING AND WHAT IT IS \n",
    "                    text('0')\n",
    "\n",
    "            with tag('Style',('id','waypointStyle')):\n",
    "                with tag('IconStyle'):\n",
    "                    with tag('Icon'):\n",
    "                        with tag('href'):\n",
    "                            text('https://cdnen.dji-flighthub.com/static/app/images/point.png')\n",
    "            with tag('Folder'):\n",
    "                \n",
    "                with tag('name'):\n",
    "                    text('Waypoints')\n",
    "                with tag('description'):\n",
    "                    text('Waypoints in the Mission.')\n",
    "                \n",
    "                waypointcounter = 1\n",
    "                trig = 1\n",
    "                for pathar in target: \n",
    " \n",
    "                    if trig == 1 :\n",
    "                        trig= trig*-1\n",
    "                        ref_new = ref\n",
    "                        pathar = pathar[::-1]\n",
    "                        ref_new = ref[::-1]\n",
    "                    elif trig == -1:\n",
    "                        trig= trig*-1\n",
    "                        ref_new = ref \n",
    "\n",
    "\n",
    "                    for i in range(len(pathar)):\n",
    "                        d,b = haversine(  pathar[i][1],pathar[i][0],ref_new[i][1],ref_new[i][0]  )\n",
    "                        la = pathar[i][0]\n",
    "                        lo = pathar[i][1]\n",
    "                        a = pathar[i][2] + 2.5  # ADDING EXTRA ALTITUDE \n",
    "#                         print(a)\n",
    "                        total_coord.append([lo,la,a])\n",
    "                        \n",
    "                        with tag('Placemark'):\n",
    "                            with tag('name'):\n",
    "                                text(f'Waypoint{waypointcounter}')\n",
    "                                waypointcounter = waypointcounter + 1 \n",
    "                            with tag('visibility'):\n",
    "                                text(f'1')\n",
    "                            with tag('description'):\n",
    "                                text(f'Waypoint')\n",
    "                            with tag('styleUrl'):\n",
    "                                text(f'#waypointStyle')\n",
    "\n",
    "                            with tag('ExtendedData',('xmlns:mis', \"www.dji.com\")):\n",
    "                                with tag('mis:useWaylineAltitude'):\n",
    "                                    text('false')\n",
    "\n",
    "                                with tag('mis:heading'):\n",
    "                                    if b>180:\n",
    "                                        yaw = -(360-b)\n",
    "                                    else: \n",
    "                                        yaw = b \n",
    "                                    \n",
    "                                    text(f'{int(yaw)}')\n",
    "#                                     print(b)\n",
    "\n",
    "                                with tag('mis:turnMode'):\n",
    "                                    text('Auto')\n",
    "\n",
    "                                with tag('mis:gimbalPitch'):\n",
    "                                    text('0.0')\n",
    "\n",
    "                                with tag('mis:useWaylineSpeed'):\n",
    "                                    text('false')\n",
    "\n",
    "                                with tag('mis:speed'):\n",
    "                                    text('1.0')\n",
    "\n",
    "                                with tag('mis:useWaylineHeadingMode'):\n",
    "                                    text('true')\n",
    "\n",
    "                                with tag('mis:useWaylinePointType'):\n",
    "                                    text('true')\n",
    "\n",
    "                                with tag('mis:pointType'):\n",
    "                                    text('LineStop')\n",
    "\n",
    "                                with tag('mis:cornerRadius'):\n",
    "                                    text('0.2')\n",
    "\n",
    "                                with tag('mis:actions',('param', \"2000\"),('accuracy', \"0\"),('cameraIndex', \"0\"),('payloadType', \"0\")\n",
    "                                            ,('payloadIndex', \"0\")):\n",
    "                                    text('Hovering')\n",
    "                                    \n",
    "                                with tag('mis:actions',('param', \"0\"),('accuracy', \"0\"),('cameraIndex', \"0\"),('payloadType', \"0\")\n",
    "                                            ,('payloadIndex', \"0\")):\n",
    "                                    text('ShootPhoto')\n",
    "                                    \n",
    "                            with tag(\"Point\"):\n",
    "                                with tag('altitudeMode'):\n",
    "                                        text('relativeToGround')\n",
    "\n",
    "                                with tag('coordinates'):\n",
    "                                        text(f'{lo},{la},{a}')\n",
    "\n",
    "            with tag('Placemark'):\n",
    "                with tag('name'):\n",
    "                    text(f'Wayline')\n",
    "\n",
    "                with tag('description'):\n",
    "                    text(f'Wayline')\n",
    "\n",
    "                with tag('visibility'):\n",
    "                    text(f'1')\n",
    "\n",
    "                with tag('ExtendedData',('xmlns:mis', \"www.dji.com\")):\n",
    "\n",
    "                    with tag('mis:altitude'):\n",
    "                        text('20.0')\n",
    "\n",
    "                    with tag('mis:autoFlightSpeed'):\n",
    "                        text(f'1.0')\n",
    "\n",
    "                    with tag('mis:actionOnFinish'):\n",
    "                        text('Hover')\n",
    "\n",
    "                    with tag('mis:headingMode'):\n",
    "                        text('UsePointSetting')\n",
    "\n",
    "                    with tag('mis:gimbalPitchMode'):\n",
    "                        text('UsePointSetting')\n",
    "\n",
    "                    with tag('mis:powerSaveMode'):\n",
    "                        text('false')\n",
    "\n",
    "                    with tag('mis:waypointType'):\n",
    "                        text('LineStop')\n",
    "\n",
    "                    with tag('mis:droneInfo'):\n",
    "                        with tag('mis:droneType'):\n",
    "                            text('COMMON')\n",
    "                        with tag('mis:advanceSettings'):\n",
    "                            text('false')\n",
    "                        with tag('mis:droneCameras'):\n",
    "                            text('')\n",
    "                        with tag('mis:droneHeight'):\n",
    "                            with tag('mis:useAbsolute'):\n",
    "                                text('false')\n",
    "                            with tag('mis:hasTakeoffHeight'):\n",
    "                                text('false')\n",
    "                            with tag('mis:takeoffHeight'):\n",
    "                                text('0.0')\n",
    "\n",
    "\n",
    "                with tag('styleUrl'):\n",
    "                    text('#waylineGreenPoly')\n",
    "\n",
    "                with tag(\"LineString\"):\n",
    "                    with tag('tessellate'):\n",
    "                            text('1')\n",
    "\n",
    "                    with tag('altitudeMode'):\n",
    "                            text('relativeToGround')\n",
    "\n",
    "                    with tag('coordinates'):\n",
    "                        coordinates_total = ''\n",
    "\n",
    "                        for i in total_coord:\n",
    "                            coordinates_total = coordinates_total + str(i[0]) + ',' + str(i[1]) + ',' + str(i[2])[:5] + ' '\n",
    "\n",
    "                        text(f'{coordinates_total}')\n",
    "\n",
    "\n",
    "    result = indent(\n",
    "        doc.getvalue(),\n",
    "        indentation = ' '*4,\n",
    "        newline = '\\r\\n'\n",
    "    )\n",
    "\n",
    "    \n",
    "\n",
    "    save_path_file = name\n",
    "    with open(save_path_file, \"w\") as f: \n",
    "        f.write(result)  \n",
    "\n",
    "\n"
   ]
  },
  {
   "cell_type": "code",
   "execution_count": 91,
   "metadata": {},
   "outputs": [],
   "source": [
    "get_KML(target,ref,'milltesting2.kml')"
   ]
  },
  {
   "cell_type": "code",
   "execution_count": 92,
   "metadata": {},
   "outputs": [
    {
     "data": {
      "text/plain": [
       "(0.011016690899817088, 327.22185293188954)"
      ]
     },
     "execution_count": 92,
     "metadata": {},
     "output_type": "execute_result"
    }
   ],
   "source": [
    "haversine(77.34990317,11.2020383,77.34984849,11.20212160)"
   ]
  },
  {
   "cell_type": "code",
   "execution_count": 93,
   "metadata": {},
   "outputs": [
    {
     "data": {
      "text/plain": [
       "18"
      ]
     },
     "execution_count": 93,
     "metadata": {},
     "output_type": "execute_result"
    }
   ],
   "source": [
    "18"
   ]
  },
  {
   "cell_type": "code",
   "execution_count": 94,
   "metadata": {},
   "outputs": [],
   "source": [
    "!open .\n"
   ]
  },
  {
   "cell_type": "code",
   "execution_count": null,
   "metadata": {},
   "outputs": [],
   "source": []
  }
 ],
 "metadata": {
  "kernelspec": {
   "display_name": "Python 3",
   "language": "python",
   "name": "python3"
  },
  "language_info": {
   "codemirror_mode": {
    "name": "ipython",
    "version": 3
   },
   "file_extension": ".py",
   "mimetype": "text/x-python",
   "name": "python",
   "nbconvert_exporter": "python",
   "pygments_lexer": "ipython3",
   "version": "3.7.9"
  }
 },
 "nbformat": 4,
 "nbformat_minor": 4
}
