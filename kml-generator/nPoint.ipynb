{
 "cells": [
  {
   "cell_type": "code",
   "execution_count": 130,
   "metadata": {},
   "outputs": [],
   "source": [
    "import math\n",
    "import numpy as np\n",
    "from math import radians, cos, sin, asin, sqrt, atan\n",
    "from yattag import Doc, indent\n",
    "from numpy import cross, eye, dot\n",
    "\n",
    "\n",
    "\n",
    "def haversine(lon1, lat1, lon2, lat2):\n",
    "    \"\"\"\n",
    "    Calculate the great circle distance between two points \n",
    "    on the earth (specified in decimal degrees)\n",
    "    \"\"\"\n",
    "    # convert decimal degrees to radians \n",
    "    lon1, lat1, lon2, lat2 = map(radians, [lon1, lat1, lon2, lat2])\n",
    "\n",
    "    # haversine formula \n",
    "    dlon = lon2 - lon1 \n",
    "    dlat = lat2 - lat1 \n",
    "    a = sin(dlat/2)**2 + cos(lat1) * cos(lat2) * sin(dlon/2)**2\n",
    "    c = 2 * asin(sqrt(a)) \n",
    "    r = 6371 # Radius of earth in kilometers. Use 3956 for miles\n",
    "    \n",
    "    \n",
    "    bearing = math.atan2(sin(lon2-lon1)*cos(lat2), cos(lat1)*sin(lat2)-sin(lat1)*cos(lat2)*cos(lon2-lon1))\n",
    "    bearing = math.degrees(bearing)\n",
    "    bearing = (bearing + 360) % 360\n",
    "    return c * r , bearing"
   ]
  },
  {
   "cell_type": "code",
   "execution_count": 131,
   "metadata": {},
   "outputs": [],
   "source": [
    "t1 = [[10.897230634864844,77.2645555105568,33.101351441365730],[10.897231739485731,77.26455924209046,36.097611752600980],[10.897232844106572,77.26456297362411,39.093872063836240],[10.89723394872737,77.2645667051578,42.090132375071490],[10.897235053348119,77.26457043669153,45.086392686306740],[10.897236157968827,77.26457416822527,48.082652997541990],[10.897237262589485,77.26457789975905,51.0789133087772460],[10.897238367210102,77.26458163129284,54.07517362001250],[10.897239471830673,77.26458536282668,57.071433931247750],[10.897240576451198,77.26458909436053,60.067694242483010],[10.897197699507215,77.26441236365467,35.376998207140190],[10.897198804129829,77.26441609518736,38.373258518375440],[10.897199908752405,77.26441982672007,41.369518829610690],[10.89720101337493,77.26442355825283,44.3657791408459450],[10.897202117997413,77.26442728978559,47.36203945208120],[10.897203222619849,77.2644310213184,50.358299763316450],[10.897204327242239,77.26443475285123,53.35456007455170],[10.897205431864588,77.26443848438409,56.350820385786950],[10.897206536486888,77.26444221591697,59.347080697022210],[10.897207641109143,77.26444594744989,62.343341008257460],[10.897336213208616,77.2643659643451,35.4345538720264560],[10.897337317831795,77.26436969587937,38.43081418326170],[10.89733842245493,77.26437342741364,41.4270744944969560],[10.897339527078016,77.26437715894797,44.423334805732210],[10.89734063170106,77.26438089048229,47.4195951169674640],[10.897341736324055,77.26438462201666,50.415855428202720],[10.897342840947008,77.26438835355106,53.4121157394379650],[10.897343945569917,77.26439208508548,56.408376050673220],[10.89734505019278,77.26439581661994,59.404636361908470],[10.897346154815596,77.2643995481544,62.400896673143730],[10.897393293119856,77.26450102338248,33.168939719696990],[10.897394397741403,77.26450475491794,36.165200030932250],[10.897395502362905,77.26450848645344,39.16146034216750],[10.897396606984357,77.26451221798897,42.157720653402750],[10.897397711605768,77.26451594952454,45.1539809646380],[10.897398816227131,77.26451968106011,48.1502412758732560],[10.897399920848454,77.26452341259572,51.146501587108510],[10.897401025469726,77.26452714413135,54.1427618983437640],[10.897402130090956,77.26453087566702,57.139022209579010],[10.897403234712142,77.26453460720272,60.135282520814270],[10.897291608783659,77.26446535606169,34.162064179092160],[10.897292713405633,77.26446908759576,37.1583244903274160],[10.897293818027565,77.26447281912985,40.154584801562680],[10.897294922649452,77.26447655066397,43.150845112797920],[10.897296027271295,77.26448028219812,46.147105424033180],[10.89729713189309,77.2644840137323,49.143365735268430],[10.89729823651484,77.2644877452665,52.139626046503680],[10.897299341136547,77.26449147680073,55.1358863577389260],[10.897300445758209,77.26449520833499,58.132146668974190],[10.897301550379822,77.26449893986928,61.128406980209440]]"
   ]
  },
  {
   "cell_type": "code",
   "execution_count": 132,
   "metadata": {},
   "outputs": [],
   "source": [
    "targets = 40\n",
    "references = 10 "
   ]
  },
  {
   "cell_type": "code",
   "execution_count": 133,
   "metadata": {},
   "outputs": [],
   "source": [
    "tgt = t1[:targets]\n",
    "ref = t1[targets:]"
   ]
  },
  {
   "cell_type": "code",
   "execution_count": 134,
   "metadata": {},
   "outputs": [
    {
     "data": {
      "text/plain": [
       "[[10.897291608783659, 77.26446535606169, 34.16206417909216],\n",
       " [10.897292713405633, 77.26446908759576, 37.158324490327416],\n",
       " [10.897293818027565, 77.26447281912985, 40.15458480156268],\n",
       " [10.897294922649452, 77.26447655066397, 43.15084511279792],\n",
       " [10.897296027271295, 77.26448028219812, 46.14710542403318],\n",
       " [10.89729713189309, 77.2644840137323, 49.14336573526843],\n",
       " [10.89729823651484, 77.2644877452665, 52.13962604650368],\n",
       " [10.897299341136547, 77.26449147680073, 55.135886357738926],\n",
       " [10.897300445758209, 77.26449520833499, 58.13214666897419],\n",
       " [10.897301550379822, 77.26449893986928, 61.12840698020944]]"
      ]
     },
     "execution_count": 134,
     "metadata": {},
     "output_type": "execute_result"
    }
   ],
   "source": [
    "ref"
   ]
  },
  {
   "cell_type": "code",
   "execution_count": 135,
   "metadata": {
    "scrolled": false
   },
   "outputs": [
    {
     "data": {
      "text/plain": [
       "4"
      ]
     },
     "execution_count": 135,
     "metadata": {},
     "output_type": "execute_result"
    }
   ],
   "source": [
    "iterations = int(targets/references)\n",
    "iterations"
   ]
  },
  {
   "cell_type": "code",
   "execution_count": 136,
   "metadata": {},
   "outputs": [
    {
     "name": "stdout",
     "output_type": "stream",
     "text": [
      "0 10\n",
      "10 20\n",
      "20 30\n",
      "30 40\n"
     ]
    }
   ],
   "source": [
    "for i in range(iterations):\n",
    "    first = i*references \n",
    "    last = first+references\n",
    "    \n",
    "    print(first,last)\n",
    "    \n",
    "\n"
   ]
  },
  {
   "cell_type": "code",
   "execution_count": null,
   "metadata": {},
   "outputs": [],
   "source": []
  },
  {
   "cell_type": "code",
   "execution_count": null,
   "metadata": {},
   "outputs": [],
   "source": []
  },
  {
   "cell_type": "code",
   "execution_count": null,
   "metadata": {},
   "outputs": [],
   "source": []
  },
  {
   "cell_type": "code",
   "execution_count": null,
   "metadata": {},
   "outputs": [],
   "source": []
  },
  {
   "cell_type": "code",
   "execution_count": 137,
   "metadata": {},
   "outputs": [],
   "source": [
    "def get_KML(target,ref,name):\n",
    "    \n",
    "    total_coord = []\n",
    "    waypointcounter = 1 \n",
    "    doc, tag, text = Doc().tagtext()\n",
    "    \n",
    "    with tag(\"kml\",('xmlns',\"http://www.opengis.net/kml/2.2\")):\n",
    "        with tag(\"Document\",('xmlns',\"\")):\n",
    "            with tag(\"name\"):\n",
    "                text('C2')\n",
    "\n",
    "            with tag('open'):\n",
    "                text(\"1\")\n",
    "\n",
    "            with tag(\"ExtendedData\",('xmlns:mis','www.dji.com')):\n",
    "                with tag('mis:type'):\n",
    "                    text('Waypoint')\n",
    "                with tag('mis:stationType'):     # CHECK THIS SETTING AND WHAT IT IS \n",
    "                    text('0')\n",
    "\n",
    "            with tag('Style',('id','waypointStyle')):\n",
    "                with tag('IconStyle'):\n",
    "                    with tag('Icon'):\n",
    "                        with tag('href'):\n",
    "                            text('https://cdnen.dji-flighthub.com/static/app/images/point.png')\n",
    "            with tag('Folder'):\n",
    "                \n",
    "                with tag('name'):\n",
    "                    text('Waypoints')\n",
    "                with tag('description'):\n",
    "                    text('Waypoints in the Mission.')\n",
    "                \n",
    "                switch = 0 \n",
    "                for i in range(iterations):\n",
    "                    first = i*references \n",
    "                    last = first+references\n",
    "                    print(first,last)\n",
    "                    target_arr = tgt[first:last]\n",
    "                    \n",
    "                    \n",
    "                    \n",
    "                    \n",
    "                    if switch == 0 : \n",
    "                        target_arr = target_arr[::-1]\n",
    "                        ref = ref[::-1]\n",
    "                        switch = 1 \n",
    "                    elif switch == 1 :\n",
    "                        switch = 0 \n",
    "                        ref = ref[::-1]\n",
    "                        \n",
    "                    for i in range(references):\n",
    "                        \n",
    "                        pathar = target_arr\n",
    "                        ref_new = ref\n",
    "                        d,b = haversine(  pathar[i][1],pathar[i][0],ref_new[i][1],ref_new[i][0]  )\n",
    "                        la = pathar[i][0]\n",
    "                        lo = pathar[i][1]\n",
    "                        a = pathar[i][2]  -5 # ADDING EXTRA ALTITUDE \n",
    "#                         print(a)\n",
    "                        total_coord.append([lo,la,a])\n",
    "\n",
    "\n",
    "\n",
    "\n",
    "                        with tag('Placemark'):\n",
    "                            with tag('name'):\n",
    "                                text(f'Waypoint{waypointcounter}')\n",
    "                                waypointcounter = waypointcounter + 1 \n",
    "                            with tag('visibility'):\n",
    "                                text(f'1')\n",
    "                            with tag('description'):\n",
    "                                text(f'Waypoint')\n",
    "                            with tag('styleUrl'):\n",
    "                                text(f'#waypointStyle')\n",
    "\n",
    "                            with tag('ExtendedData',('xmlns:mis', \"www.dji.com\")):\n",
    "                                with tag('mis:useWaylineAltitude'):\n",
    "                                    text('false')\n",
    "\n",
    "                                with tag('mis:heading'):\n",
    "                                    if b>180:\n",
    "                                        yaw = -(360-b)\n",
    "                                    else: \n",
    "                                        yaw = b \n",
    "                                    \n",
    "                                    text(f'{int(yaw)}')\n",
    "#                                     print(b)\n",
    "\n",
    "                                with tag('mis:turnMode'):\n",
    "                                    text('Auto')\n",
    "\n",
    "                                with tag('mis:gimbalPitch'):\n",
    "                                    text('0.0')\n",
    "\n",
    "                                with tag('mis:useWaylineSpeed'):\n",
    "                                    text('false')\n",
    "\n",
    "                                with tag('mis:speed'):\n",
    "                                    text('1.0')\n",
    "\n",
    "                                with tag('mis:useWaylineHeadingMode'):\n",
    "                                    text('true')\n",
    "\n",
    "                                with tag('mis:useWaylinePointType'):\n",
    "                                    text('true')\n",
    "\n",
    "                                with tag('mis:pointType'):\n",
    "                                    text('LineStop')\n",
    "\n",
    "                                with tag('mis:cornerRadius'):\n",
    "                                    text('0.2')\n",
    "\n",
    "                                with tag('mis:actions',('param', \"1000\"),('accuracy', \"0\"),('cameraIndex', \"0\"),('payloadType', \"0\")\n",
    "                                            ,('payloadIndex', \"0\")):\n",
    "                                    text('Hovering')\n",
    "                                    \n",
    "                                with tag('mis:actions',('param', \"0\"),('accuracy', \"0\"),('cameraIndex', \"0\"),('payloadType', \"0\")\n",
    "                                            ,('payloadIndex', \"0\")):\n",
    "                                    text('ShootPhoto')\n",
    "                                    \n",
    "                            with tag(\"Point\"):\n",
    "                                with tag('altitudeMode'):\n",
    "                                        text('relativeToGround')\n",
    "\n",
    "                                with tag('coordinates'):\n",
    "                                        text(f'{lo},{la},{a}')\n",
    "\n",
    "            with tag('Placemark'):\n",
    "                with tag('name'):\n",
    "                    text(f'Wayline')\n",
    "\n",
    "                with tag('description'):\n",
    "                    text(f'Wayline')\n",
    "\n",
    "                with tag('visibility'):\n",
    "                    text(f'1')\n",
    "\n",
    "                with tag('ExtendedData',('xmlns:mis', \"www.dji.com\")):\n",
    "\n",
    "                    with tag('mis:altitude'):\n",
    "                        text('20.0')\n",
    "\n",
    "                    with tag('mis:autoFlightSpeed'):\n",
    "                        text(f'1.0')\n",
    "\n",
    "                    with tag('mis:actionOnFinish'):\n",
    "                        text('Hover')\n",
    "\n",
    "                    with tag('mis:headingMode'):\n",
    "                        text('UsePointSetting')\n",
    "\n",
    "                    with tag('mis:gimbalPitchMode'):\n",
    "                        text('UsePointSetting')\n",
    "\n",
    "                    with tag('mis:powerSaveMode'):\n",
    "                        text('false')\n",
    "\n",
    "                    with tag('mis:waypointType'):\n",
    "                        text('LineStop')\n",
    "\n",
    "                    with tag('mis:droneInfo'):\n",
    "                        with tag('mis:droneType'):\n",
    "                            text('COMMON')\n",
    "                        with tag('mis:advanceSettings'):\n",
    "                            text('false')\n",
    "                        with tag('mis:droneCameras'):\n",
    "                            text('')\n",
    "                        with tag('mis:droneHeight'):\n",
    "                            with tag('mis:useAbsolute'):\n",
    "                                text('false')\n",
    "                            with tag('mis:hasTakeoffHeight'):\n",
    "                                text('false')\n",
    "                            with tag('mis:takeoffHeight'):\n",
    "                                text('0.0')\n",
    "\n",
    "\n",
    "                with tag('styleUrl'):\n",
    "                    text('#waylineGreenPoly')\n",
    "\n",
    "                with tag(\"LineString\"):\n",
    "                    with tag('tessellate'):\n",
    "                            text('1')\n",
    "\n",
    "                    with tag('altitudeMode'):\n",
    "                            text('relativeToGround')\n",
    "\n",
    "                    with tag('coordinates'):\n",
    "                        coordinates_total = ''\n",
    "\n",
    "                        for i in total_coord:\n",
    "                            coordinates_total = coordinates_total + str(i[0]) + ',' + str(i[1]) + ',' + str(i[2])[:5] + ' '\n",
    "\n",
    "                        text(f'{coordinates_total}')\n",
    "\n",
    "\n",
    "    result = indent(\n",
    "        doc.getvalue(),\n",
    "        indentation = ' '*4,\n",
    "        newline = '\\r\\n'\n",
    "    )\n",
    "\n",
    "    \n",
    "\n",
    "    save_path_file = name\n",
    "    with open(save_path_file, \"w\") as f: \n",
    "        f.write(result)  \n",
    "\n"
   ]
  },
  {
   "cell_type": "code",
   "execution_count": 138,
   "metadata": {},
   "outputs": [
    {
     "name": "stdout",
     "output_type": "stream",
     "text": [
      "0 10\n",
      "10 20\n",
      "20 30\n",
      "30 40\n"
     ]
    }
   ],
   "source": [
    "get_KML(tgt,ref,'Test2-85-photo.kml')"
   ]
  },
  {
   "cell_type": "code",
   "execution_count": null,
   "metadata": {},
   "outputs": [],
   "source": []
  },
  {
   "cell_type": "code",
   "execution_count": null,
   "metadata": {},
   "outputs": [],
   "source": []
  },
  {
   "cell_type": "code",
   "execution_count": null,
   "metadata": {},
   "outputs": [],
   "source": []
  },
  {
   "cell_type": "code",
   "execution_count": null,
   "metadata": {},
   "outputs": [],
   "source": []
  }
 ],
 "metadata": {
  "kernelspec": {
   "display_name": "Python 3",
   "language": "python",
   "name": "python3"
  },
  "language_info": {
   "codemirror_mode": {
    "name": "ipython",
    "version": 3
   },
   "file_extension": ".py",
   "mimetype": "text/x-python",
   "name": "python",
   "nbconvert_exporter": "python",
   "pygments_lexer": "ipython3",
   "version": "3.7.9"
  }
 },
 "nbformat": 4,
 "nbformat_minor": 4
}
